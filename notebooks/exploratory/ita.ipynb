{
 "cells": [
  {
   "cell_type": "markdown",
   "metadata": {},
   "source": [
    "# Italy"
   ]
  },
  {
   "cell_type": "code",
   "execution_count": 565,
   "metadata": {},
   "outputs": [],
   "source": [
    "import io\n",
    "import pandas as pd\n",
    "import geopandas as gpd\n",
    "import requests\n",
    "from bs4 import BeautifulSoup"
   ]
  },
  {
   "cell_type": "markdown",
   "metadata": {},
   "source": [
    "## Fetch results"
   ]
  },
  {
   "cell_type": "code",
   "execution_count": 58,
   "metadata": {},
   "outputs": [],
   "source": [
    "base_url = 'https://elezionistorico.interno.gov.it'"
   ]
  },
  {
   "cell_type": "code",
   "execution_count": 63,
   "metadata": {},
   "outputs": [],
   "source": [
    "def get_panel(url=None):\n",
    "    if url:\n",
    "        url = f'{base_url}{url}'\n",
    "    else:\n",
    "        url = f'{base_url}/index.php?tpel=E&dtel=25/05/2014&tpa=I&tpe=A&lev0=0&levsut0=0&es0=S&ms=S'\n",
    "    user_agent = ('Mozilla/5.0 (Macintosh; Intel Mac OS X 10_14_0) AppleWebKit/537.36 '\n",
    "                  '(KHTML, like Gecko) Chrome/73.0.3683.103 Safari/537.36')\n",
    "    r = requests.get(url, headers={'User-Agent': user_agent})\n",
    "    html = BeautifulSoup(r.text)\n",
    "    panel = html.select('.panel-default')[-1]\n",
    "    c = panel.select('.sezione li > a')\n",
    "    return [(x.attrs['href'], x.attrs['title']) for x in c]"
   ]
  },
  {
   "cell_type": "code",
   "execution_count": 67,
   "metadata": {},
   "outputs": [],
   "source": [
    "def get_turnout(url):\n",
    "    user_agent = ('Mozilla/5.0 (Macintosh; Intel Mac OS X 10_14_0) AppleWebKit/537.36 '\n",
    "                  '(KHTML, like Gecko) Chrome/73.0.3683.103 Safari/537.36')\n",
    "    r = requests.get(f'{base_url}{url}', headers={'User-Agent': user_agent})\n",
    "    html = BeautifulSoup(r.text)\n",
    "    return html.select_one('.percentuale').text.strip()"
   ]
  },
  {
   "cell_type": "code",
   "execution_count": 69,
   "metadata": {},
   "outputs": [
    {
     "name": "stdout",
     "output_type": "stream",
     "text": [
      "PIEMONTE\n",
      "VALLE D'AOSTA\n",
      "LOMBARDIA\n",
      "LIGURIA\n",
      "TRENTINO-ALTO ADIGE\n",
      "VENETO\n",
      "FRIULI-VENEZIA GIULIA\n",
      "EMILIA-ROMAGNA\n",
      "TOSCANA\n",
      "UMBRIA\n",
      "MARCHE\n",
      "LAZIO\n",
      "ABRUZZO\n",
      "MOLISE\n",
      "CAMPANIA\n",
      "PUGLIA\n",
      "BASILICATA\n",
      "CALABRIA\n",
      "SICILIA\n",
      "SARDEGNA\n"
     ]
    }
   ],
   "source": [
    "data = []\n",
    "\n",
    "circioscrizione = get_panel()\n",
    "for c_href, c_title in circioscrizione:\n",
    "    regions = get_panel(c_href)\n",
    "    for r_href, r_title in regions:\n",
    "        print(r_title)\n",
    "        provinces = get_panel(r_href)\n",
    "        for p_href, p_title in provinces:\n",
    "            communes = get_panel(p_href)\n",
    "            for com_href, com_title in communes:\n",
    "                turnout = get_turnout(com_href)\n",
    "                data.append((c_title, r_title, p_title, com_title, turnout))"
   ]
  },
  {
   "cell_type": "code",
   "execution_count": 73,
   "metadata": {},
   "outputs": [],
   "source": [
    "df = pd.DataFrame(data, columns=['circo', 'region', 'province', 'commune', 'turnout'])"
   ]
  },
  {
   "cell_type": "code",
   "execution_count": 75,
   "metadata": {},
   "outputs": [],
   "source": [
    "df.turnout = df.turnout.str.replace(' %', '')\n",
    "df.turnout = df.turnout.str.replace(',', '.')\n",
    "df.turnout = df.turnout.astype(float)"
   ]
  },
  {
   "cell_type": "code",
   "execution_count": null,
   "metadata": {},
   "outputs": [],
   "source": [
    "df.commune = df.commune.str.split('/', expand=True)[0]"
   ]
  },
  {
   "cell_type": "code",
   "execution_count": 568,
   "metadata": {},
   "outputs": [],
   "source": [
    "df.to_csv('../../data/raw/ita.csv', index=False)"
   ]
  },
  {
   "cell_type": "markdown",
   "metadata": {},
   "source": [
    "## Merge"
   ]
  },
  {
   "cell_type": "code",
   "execution_count": 569,
   "metadata": {},
   "outputs": [],
   "source": [
    "geo = gpd.read_file('../../data/shapefiles/ita/gadm36_ITA_3.shp')"
   ]
  },
  {
   "cell_type": "code",
   "execution_count": 570,
   "metadata": {},
   "outputs": [],
   "source": [
    "geo['NAME_1_UP'] = geo.NAME_1.str.upper()\n",
    "geo['NAME_2_UP'] = geo.NAME_2.str.upper()\n",
    "geo['NAME_3_UP'] = geo.NAME_3.str.upper()"
   ]
  },
  {
   "cell_type": "code",
   "execution_count": 571,
   "metadata": {},
   "outputs": [],
   "source": [
    "geo['NAME_1_UP'] = geo.NAME_1_UP.replace('APULIA', 'PUGLIA')\n",
    "geo['NAME_1_UP'] = geo.NAME_1_UP.replace('SICILY', 'SICILIA')"
   ]
  },
  {
   "cell_type": "code",
   "execution_count": 572,
   "metadata": {},
   "outputs": [],
   "source": [
    "geo['NAME_2_UP'] = geo.NAME_2_UP.replace('REGGIO DI CALABRIA', 'REGGIO CALABRIA')\n",
    "geo['NAME_2_UP'] = geo.NAME_2_UP.replace(\"FORLI' - CESENA\", \"FORLI'-CESENA\")\n",
    "geo['NAME_2_UP'] = geo.NAME_2_UP.replace('MANTUA', 'MANTOVA')\n",
    "geo['NAME_2_UP'] = geo.NAME_2_UP.replace('MONZA AND BRIANZA', 'MONZA E DELLA BRIANZA')\n",
    "geo['NAME_2_UP'] = geo.NAME_2_UP.replace('SYRACUSE', 'SIRACUSA')\n",
    "geo['NAME_2_UP'] = geo.NAME_2_UP.replace('FLORENCE', 'FIRENZE')\n",
    "geo['NAME_2_UP'] = geo.NAME_2_UP.replace('MASSA CARRARA', 'MASSA-CARRARA')\n",
    "geo['NAME_2_UP'] = geo.NAME_2_UP.replace('PADUA', 'PADOVA')"
   ]
  },
  {
   "cell_type": "code",
   "execution_count": 573,
   "metadata": {},
   "outputs": [],
   "source": [
    "geo = geo.merge(df,\n",
    "               left_on=['NAME_1_UP', 'NAME_2_UP', 'NAME_3_UP'],\n",
    "               right_on=['region', 'province', 'commune'], how='left')"
   ]
  },
  {
   "cell_type": "code",
   "execution_count": 574,
   "metadata": {},
   "outputs": [],
   "source": [
    "geo['NAME_3_UP_fix'] = geo.NAME_3_UP.str.replace(\"' \", \"'\")\n",
    "geo = geo.merge(df,\n",
    "               left_on=['NAME_1_UP', 'NAME_2_UP', 'NAME_3_UP_fix'],\n",
    "               right_on=['region', 'province', 'commune'], how='left',\n",
    "               suffixes=('', '_x'))\n",
    "geo = geo[[x for x in geo.columns if not x.endswith('_x') or 'turnout' in x]]\n",
    "\n",
    "geo.turnout = geo.turnout.fillna(geo.turnout_x)\n",
    "geo = geo.drop(['NAME_3_UP_fix', 'turnout_x'], axis=1)"
   ]
  },
  {
   "cell_type": "code",
   "execution_count": 575,
   "metadata": {},
   "outputs": [],
   "source": [
    "geo['NAME_3_UP_fix'] = geo.NAME_3_UP.str.replace(\"À\", \"A'\")\n",
    "geo['NAME_3_UP_fix'] = geo.NAME_3_UP_fix.str.replace(\"Ò\", \"O'\")\n",
    "geo['NAME_3_UP_fix'] = geo.NAME_3_UP_fix.str.replace(\"Ù\", \"U'\")\n",
    "geo['NAME_3_UP_fix'] = geo.NAME_3_UP_fix.str.replace(\"Ì\", \"I'\")\n",
    "geo['NAME_3_UP_fix'] = geo.NAME_3_UP_fix.str.replace(\"È\", \"E'\")\n",
    "geo = geo.merge(df,\n",
    "               left_on=['NAME_1_UP', 'NAME_2_UP', 'NAME_3_UP_fix'],\n",
    "               right_on=['region', 'province', 'commune'], how='left',\n",
    "               suffixes=('', '_x'))\n",
    "geo = geo[[x for x in geo.columns if not x.endswith('_x') or 'turnout' in x]]\n",
    "\n",
    "geo.turnout = geo.turnout.fillna(geo.turnout_x)\n",
    "geo = geo.drop(['NAME_3_UP_fix', 'turnout_x'], axis=1)"
   ]
  },
  {
   "cell_type": "code",
   "execution_count": 576,
   "metadata": {},
   "outputs": [],
   "source": [
    "geo.NAME_3_UP = geo.NAME_3_UP.replace('NOCERA TIRINESE', 'NOCERA TERINESE')\n",
    "geo.NAME_3_UP = geo.NAME_3_UP.replace('JONADI', 'IONADI')\n",
    "geo.NAME_3_UP = geo.NAME_3_UP.replace(\"SANT' AGATA DE' GOTI\", \"SANT'AGATA DE' GOTI\")\n",
    "geo.NAME_3_UP = geo.NAME_3_UP.replace('TRENTOLA-DUCENTA', 'TRENTOLA DUCENTA')\n",
    "geo.NAME_3_UP = geo.NAME_3_UP.replace(\"CITTÀ SANT' ANGELO\", \"CITTA' SANT'ANGELO\")\n",
    "geo.NAME_3_UP = geo.NAME_3_UP.replace('CASSANO ALLO IONIO', \"CASSANO ALL'IONIO\")\n",
    "geo.NAME_3_UP = geo.NAME_3_UP.replace('JOLANDA DI SAVOIA', 'IOLANDA DI SAVOIA')\n",
    "geo.NAME_3_UP = geo.NAME_3_UP.replace('VERRÈS', 'VERRES')\n",
    "geo.NAME_3_UP = geo.NAME_3_UP.replace('MONTORO INFERIORE', 'MONTORO')\n",
    "geo.NAME_3_UP = geo.NAME_3_UP.replace('MONTORO SUPERIORE', 'MONTORO')\n",
    "# Hm\n",
    "geo.NAME_3_UP = geo.NAME_3_UP.replace('BAZZANO', 'VALSAMOGGIA')\n",
    "geo.NAME_3_UP = geo.NAME_3_UP.replace('CASTELLO DI SERRAVALLE', 'VALSAMOGGIA')\n",
    "geo.NAME_3_UP = geo.NAME_3_UP.replace('CRESPELLANO', 'VALSAMOGGIA')\n",
    "geo.NAME_3_UP = geo.NAME_3_UP.replace('MONTEVEGLIO', 'VALSAMOGGIA')\n",
    "geo.NAME_3_UP = geo.NAME_3_UP.replace('SAVIGNO', 'VALSAMOGGIA')\n",
    "# /hm\n",
    "geo.NAME_3_UP = geo.NAME_3_UP.replace('MASSA FISCAGLIA', 'FISCAGLIA')\n",
    "geo.NAME_3_UP = geo.NAME_3_UP.replace('MIGLIARINO', 'FISCAGLIA')\n",
    "geo.NAME_3_UP = geo.NAME_3_UP.replace('MIGLIARO', 'FISCAGLIA')\n",
    "geo.NAME_3_UP = geo.NAME_3_UP.replace('SISSA', 'SISSA TRECASALI')\n",
    "geo.NAME_3_UP = geo.NAME_3_UP.replace('TRECASALI', 'SISSA TRECASALI')\n",
    "geo.NAME_3_UP = geo.NAME_3_UP.replace('POGGIO BERNI', 'POGGIO TORRIANA')\n",
    "geo.NAME_3_UP = geo.NAME_3_UP.replace('TORRIANA', 'POGGIO TORRIANA')\n",
    "geo.NAME_3_UP = geo.NAME_3_UP.replace('DUINO-AURISINA', 'DUINO AURISINA')\n",
    "geo.NAME_3_UP = geo.NAME_3_UP.replace('CAMPOLONGO AL TORRE', 'CAMPOLONGO TAPOGLIANO')\n",
    "geo.NAME_3_UP = geo.NAME_3_UP.replace('TAPOGLIANO', 'CAMPOLONGO TAPOGLIANO')\n",
    "geo.NAME_3_UP = geo.NAME_3_UP.replace('RIVIGNANO', 'RIVIGNANO TEOR')\n",
    "geo.NAME_3_UP = geo.NAME_3_UP.replace('TEOR', 'RIVIGNANO TEOR')\n",
    "geo.NAME_3_UP = geo.NAME_3_UP.replace('POZZAGLIA SABINO', 'POZZAGLIA SABINA')\n",
    "geo.NAME_3_UP = geo.NAME_3_UP.replace('AQUILA DI ARROSCIA', 'AQUILA D\\'ARROSCIA')\n",
    "geo.NAME_3_UP = geo.NAME_3_UP.replace('SAN REMO', 'SANREMO')\n",
    "geo.NAME_3_UP = geo.NAME_3_UP.replace('BREMBILLA', 'VAL BREMBILLA')\n",
    "geo.NAME_3_UP = geo.NAME_3_UP.replace('GEROSA', 'VAL BREMBILLA')\n",
    "geo.NAME_3_UP = geo.NAME_3_UP.replace('COSTA DI SERINA', 'COSTA SERINA')\n",
    "geo.NAME_3_UP = geo.NAME_3_UP.replace(\"SANT' OMOBONO IMAGNA\", \"SANT'OMOBONO TERME\")\n",
    "geo.NAME_3_UP = geo.NAME_3_UP.replace('VALSECCA', \"SANT'OMOBONO TERME\")\n",
    "geo.NAME_3_UP = geo.NAME_3_UP.replace('RODENGO-SAIANO', 'RODENGO SAIANO')\n",
    "geo.NAME_3_UP = geo.NAME_3_UP.replace('TOSCOLANO-MADERNO', 'TOSCOLANO MADERNO')\n",
    "geo.NAME_3_UP = geo.NAME_3_UP.replace('CIVENNA', 'BELLAGIO')\n",
    "geo.NAME_3_UP = geo.NAME_3_UP.replace('CONSIGLIO DI RUMO', 'GRAVEDONA ED UNITI')\n",
    "geo.NAME_3_UP = geo.NAME_3_UP.replace('GRAVEDONA', 'GRAVEDONA ED UNITI')\n",
    "geo.NAME_3_UP = geo.NAME_3_UP.replace('GERMASINO', 'GRAVEDONA ED UNITI')\n",
    "geo.NAME_3_UP = geo.NAME_3_UP.replace('DREZZO', 'COLVERDE')\n",
    "geo.NAME_3_UP = geo.NAME_3_UP.replace('GIRONICO', 'COLVERDE')\n",
    "geo.NAME_3_UP = geo.NAME_3_UP.replace('PARÈ', 'COLVERDE')\n",
    "geo.NAME_3_UP = geo.NAME_3_UP.replace(\"VILLA D' ALMÈ\", \"VILLA D'ALME'\")\n",
    "geo.NAME_3_UP = geo.NAME_3_UP.replace('LENNO', 'TREMEZZINA')\n",
    "geo.NAME_3_UP = geo.NAME_3_UP.replace('MEZZEGRA', 'TREMEZZINA')\n",
    "geo.NAME_3_UP = geo.NAME_3_UP.replace('OSSUCCIO', 'TREMEZZINA')\n",
    "geo.NAME_3_UP = geo.NAME_3_UP.replace('TREMEZZO', 'TREMEZZINA')\n",
    "geo.NAME_3_UP = geo.NAME_3_UP.replace(\"CA' D' ANDREA\", \"CA' D'ANDREA\")\n",
    "geo.NAME_3_UP = geo.NAME_3_UP.replace('CASALE CREMASCO-VIDOLASCO', 'CASALE CREMASCO VIDOLASCO')\n",
    "geo.NAME_3_UP = geo.NAME_3_UP.replace('VERDERIO INFERIORE', 'VERDERIO')\n",
    "geo.NAME_3_UP = geo.NAME_3_UP.replace('VERDERIO SUPERIORE', 'VERDERIO')\n",
    "geo.NAME_3_UP = geo.NAME_3_UP.replace('BORGOFORTE', 'BORGO VIRGILIO')\n",
    "geo.NAME_3_UP = geo.NAME_3_UP.replace('VIRGILIO', 'BORGO VIRGILIO')\n",
    "geo.NAME_3_UP = geo.NAME_3_UP.replace(\"BASTIDA DE' DOSSI\", 'CORNALE E BASTIDA')\n",
    "geo.NAME_3_UP = geo.NAME_3_UP.replace('CORNALE', 'CORNALE E BASTIDA')\n",
    "geo.NAME_3_UP = geo.NAME_3_UP.replace('GODIASCO', 'GODIASCO SALICE TERME')\n",
    "geo.NAME_3_UP = geo.NAME_3_UP.replace('GABBIONETA-BINANUOVA', 'GABBIONETA BINANUOVA')\n",
    "geo.NAME_3_UP = geo.NAME_3_UP.replace('GORNATE-OLONA', 'GORNATE OLONA')\n",
    "geo.NAME_3_UP = geo.NAME_3_UP.replace('LAVENA PONTE TRESA', 'LAVENA-PONTE TRESA')\n",
    "geo.NAME_3_UP = geo.NAME_3_UP.replace('PINO SULLA SPONDA DEL LAGO MAGGIORE', 'MACCAGNO CON PINO E VEDDASCA')\n",
    "geo.NAME_3_UP = geo.NAME_3_UP.replace('MACCAGNO', 'MACCAGNO CON PINO E VEDDASCA')\n",
    "geo.NAME_3_UP = geo.NAME_3_UP.replace('VEDDASCA', 'MACCAGNO CON PINO E VEDDASCA')\n",
    "geo.NAME_3_UP = geo.NAME_3_UP.replace('CASTEL COLONNA', 'TRECASTELLI')\n",
    "geo.NAME_3_UP = geo.NAME_3_UP.replace('RIPE', 'TRECASTELLI')\n",
    "geo.NAME_3_UP = geo.NAME_3_UP.replace('MONTERADO', 'TRECASTELLI')\n",
    "geo.NAME_3_UP = geo.NAME_3_UP.replace('COLBORDOLO', 'VALLEFOGLIA')\n",
    "geo.NAME_3_UP = geo.NAME_3_UP.replace(\"SANT' ANGELO IN LIZZOLA\", 'TRECASTELLI')\n",
    "geo.NAME_3_UP = geo.NAME_3_UP.replace('PUEGNAGO SUL GARDA', 'PUEGNAGO DEL GARDA')\n",
    "geo.NAME_3_UP = geo.NAME_3_UP.replace('GADESCO-PIEVE DELMONA', 'GADESCO PIEVE DELMONA')\n",
    "geo.NAME_3_UP = geo.NAME_3_UP.replace('RIVANAZZANO', 'RIVANAZZANO TERME')\n",
    "geo.NAME_3_UP = geo.NAME_3_UP.replace('MONTE GRIMANO', 'MONTE GRIMANO TERME')\n",
    "geo.NAME_3_UP = geo.NAME_3_UP.replace(\"SANT' AGATA FELTRIA\", \"SANT'AGATA FELTRIA\")\n",
    "geo.NAME_3_UP = geo.NAME_3_UP.replace('LONATO', 'LONATO DEL GARDA')\n",
    "geo.NAME_3_UP = geo.NAME_3_UP.replace('BRIGNANO-FRASCATA', 'BRIGNANO FRASCATA')\n",
    "geo.NAME_3_UP = geo.NAME_3_UP.replace('CERRINA MONFERRATO', 'CERRINA')\n",
    "geo.NAME_3_UP = geo.NAME_3_UP.replace('VIALE', \"VIALE D'ASTI\")\n",
    "geo.NAME_3_UP = geo.NAME_3_UP.replace('DONORÌ', 'DONORI')\n",
    "geo.NAME_3_UP = geo.NAME_3_UP.replace('BELVI', \"BELVI'\")\n",
    "geo.NAME_3_UP = geo.NAME_3_UP.replace('GALTELLI', \"GALTELLI'\")\n",
    "geo.NAME_3_UP = geo.NAME_3_UP.replace('ONANI', \"ONANI'\")\n",
    "geo.NAME_3_UP = geo.NAME_3_UP.replace(\"TRINITÀ D' AGULTU E VIGNOLA\", \"TRINITA' D'AGULTU E VIGNOLA\")\n",
    "geo.NAME_3_UP = geo.NAME_3_UP.replace('OLLASTRA SIMÁXIS', 'OLLASTRA')\n",
    "geo.NAME_3_UP = geo.NAME_3_UP.replace(\"SAN NICOLÒ D' ARCIDANO\", \"SAN NICOLO' D'ARCIDANO\")\n",
    "geo.NAME_3_UP = geo.NAME_3_UP.replace(\"ULÀ TIRSO\", \"ULA TIRSO\")\n",
    "geo.NAME_3_UP = geo.NAME_3_UP.replace(\"NUGHEDU DI SAN NICOLÒ\", \"NUGHEDU SAN NICOLO'\")\n",
    "geo.NAME_3_UP = geo.NAME_3_UP.replace(\"FORZA D' AGRÒ\", \"FORZA D'AGRO'\")\n",
    "geo.NAME_3_UP = geo.NAME_3_UP.replace(\"GIARDINI-NAXOS\", \"GIARDINI NAXOS\")\n",
    "geo.NAME_3_UP = geo.NAME_3_UP.replace(\"MAZZARRÀ SANT' ANDREA\", \"MAZZARRA' SANT'ANDREA\")\n",
    "geo.NAME_3_UP = geo.NAME_3_UP.replace(\"CASTRONUOVO DI SICILIA\", \"CASTRONOVO DI SICILIA\")\n",
    "geo.NAME_3_UP = geo.NAME_3_UP.replace(\"CALATAFIMI-SEGESTA\", \"CALATAFIMI SEGESTA\")\n",
    "geo.NAME_3_UP = geo.NAME_3_UP.replace(\"CASTELFRANCO DI SOPRA\", \"CASTELFRANCO PIANDISCO'\")\n",
    "geo.NAME_3_UP = geo.NAME_3_UP.replace(\"PIAN DI SCO\", \"CASTELFRANCO PIANDISCO'\")\n",
    "geo.NAME_3_UP = geo.NAME_3_UP.replace(\"PRATOVECCHIO\", \"PRATOVECCHIO STIA\")\n",
    "geo.NAME_3_UP = geo.NAME_3_UP.replace(\"STIA\", \"PRATOVECCHIO STIA\")\n",
    "geo.NAME_3_UP = geo.NAME_3_UP.replace(\"FIGLINE VALDARNO\", \"FIGLINE E INCISA VALDARNO\")\n",
    "geo.NAME_3_UP = geo.NAME_3_UP.replace(\"INCISA IN VAL D' ARNO\", \"FIGLINE E INCISA VALDARNO\")\n",
    "geo.NAME_3_UP = geo.NAME_3_UP.replace(\"SAN PIERO A SIEVE\", \"SCARPERIA E SAN PIERO\")\n",
    "geo.NAME_3_UP = geo.NAME_3_UP.replace(\"SCARPERIA\", \"SCARPERIA E SAN PIERO\")\n",
    "geo.NAME_3_UP = geo.NAME_3_UP.replace(\"FABBRICHE DI VALLICO\", \"FABBRICHE DI VERGEMOLI\")\n",
    "geo.NAME_3_UP = geo.NAME_3_UP.replace(\"VERGEMOLI\", \"FABBRICHE DI VERGEMOLI\")\n",
    "geo.NAME_3_UP = geo.NAME_3_UP.replace(\"CASCIANA TERME\", \"CASCIANA TERME LARI\")\n",
    "geo.NAME_3_UP = geo.NAME_3_UP.replace(\"LARI\", \"CASCIANA TERME LARI\")\n",
    "geo.NAME_3_UP = geo.NAME_3_UP.replace(\"CRESPINA\", \"CRESPINA LORENZANA\")\n",
    "geo.NAME_3_UP = geo.NAME_3_UP.replace(\"LORENZANA\", \"CRESPINA LORENZANA\")\n",
    "geo.NAME_3_UP = geo.NAME_3_UP.replace(\"BEZZECCA\", \"LEDRO\")\n",
    "geo.NAME_3_UP = geo.NAME_3_UP.replace(\"PIEVE DI LEDRO\", \"LEDRO\")\n",
    "geo.NAME_3_UP = geo.NAME_3_UP.replace(\"CONCEI\", \"LEDRO\")\n",
    "geo.NAME_3_UP = geo.NAME_3_UP.replace(\"MOLINA DI LEDRO\", \"LEDRO\")\n",
    "geo.NAME_3_UP = geo.NAME_3_UP.replace(\"TIARNO DI SOPRA\", \"LEDRO\")\n",
    "geo.NAME_3_UP = geo.NAME_3_UP.replace(\"TIARNO DI SOTTO\", \"LEDRO\")\n",
    "geo.NAME_3_UP = geo.NAME_3_UP.replace(\"BLEGGIO INFERIORE\", \"COMANO TERME\")\n",
    "geo.NAME_3_UP = geo.NAME_3_UP.replace(\"LOMASO\", \"COMANO TERME\")\n",
    "geo.NAME_3_UP = geo.NAME_3_UP.replace(\"CADERZONE\", \"CADERZONE TERME\")\n",
    "geo.NAME_3_UP = geo.NAME_3_UP.replace(\"DRO\", \"DRO'\")\n",
    "geo.NAME_3_UP = geo.NAME_3_UP.replace(\"RONCEGNO\", \"RONCEGNO TERME\")\n",
    "geo.NAME_3_UP = geo.NAME_3_UP.replace(\"RUFFRÈ\", \"RUFFRE'-MENDOLA\")\n",
    "geo.NAME_3_UP = geo.NAME_3_UP.replace(\"EMARÈSE\", \"EMARESE\")\n",
    "geo.NAME_3_UP = geo.NAME_3_UP.replace(\"FÉNIS\", \"FENIS\")\n",
    "geo.NAME_3_UP = geo.NAME_3_UP.replace(\"JOVENÇAN\", \"JOVENCAN\")\n",
    "geo.NAME_3_UP = geo.NAME_3_UP.replace(\"SAINT-RHÉMY-EN-BOSSES\", \"SAINT-RHEMY-EN-BOSSES\")\n",
    "geo.NAME_3_UP = geo.NAME_3_UP.replace(\"QUERO\", \"QUERO VAS\")\n",
    "geo.NAME_3_UP = geo.NAME_3_UP.replace(\"VAS\", \"QUERO VAS\")\n",
    "geo.NAME_3_UP = geo.NAME_3_UP.replace(\"IESOLO\", \"JESOLO\")\n",
    "geo.NAME_3_UP = geo.NAME_3_UP.replace(\"SANTO STINO DI LIVENZA\", \"SAN STINO DI LIVENZA\")\n",
    "geo.NAME_3_UP = geo.NAME_3_UP.replace(\"BRENZONE\", \"BRENZONE SUL GARDA\")\n",
    "geo.NAME_3_UP = geo.NAME_3_UP.replace(\"ALBISOLA MARINA\", \"ALBISSOLA MARINA\")\n",
    "geo.NAME_3_UP = geo.NAME_3_UP.replace(\"CERRETO LANGHE\", \"CERRETTO LANGHE\")\n",
    "geo.NAME_3_UP = geo.NAME_3_UP.replace(\"CASTELLAVAZZO\", \"LONGARONE\")\n",
    "geo.NAME_3_UP = geo.NAME_3_UP.replace(\"CORNEDO ALL' ISARCO\", \"CORNEDO ALL'ISARCO\")\n",
    "geo.NAME_3_UP = geo.NAME_3_UP.replace(\"FIÈ ALLO SCILIAR\", \"FIE' ALLO SCILIAR\")\n",
    "geo.NAME_3_UP = geo.NAME_3_UP.replace(\"MAGRÈ SULLA STRADA DEL VINO\", \"MAGRE' SULLA STRADA DEL VINO\")\n",
    "geo.NAME_3_UP = geo.NAME_3_UP.replace(\"MONGUELFO\", \"MONGUELFO-TESIDO\")\n",
    "geo.NAME_3_UP = geo.NAME_3_UP.replace(\"TRODENA\", \"TRODENA NEL PARCO NATURALE\")"
   ]
  },
  {
   "cell_type": "code",
   "execution_count": 577,
   "metadata": {},
   "outputs": [],
   "source": [
    "geo = geo.merge(df[['region', 'province', 'commune', 'turnout']],\n",
    "               left_on=['NAME_1_UP', 'NAME_2_UP', 'NAME_3_UP'],\n",
    "               right_on=['region', 'province', 'commune'],\n",
    "               how='left',\n",
    "               suffixes=('', '_x'))\n",
    "geo = geo[[x for x in geo.columns if not x.endswith('_x') or 'turnout' in x]]\n",
    "\n",
    "geo.turnout = geo.turnout.fillna(geo.turnout_x)\n",
    "geo = geo.drop('turnout_x', axis=1)"
   ]
  },
  {
   "cell_type": "code",
   "execution_count": 578,
   "metadata": {},
   "outputs": [],
   "source": [
    "geo.loc[(geo.NAME_3_UP == 'CORTENOVA') & (geo.NAME_2_UP == 'BERGAMO'), 'NAME_3_UP'] = 'CORTENUOVA'\n",
    "geo.loc[(geo.NAME_3_UP == 'SAN COLOMBANO AL LAMBRO') & (geo.NAME_2_UP == 'LODI'), 'NAME_2_UP'] = 'MILANO'\n",
    "geo.loc[(geo.NAME_3_UP == 'RONCELLO') & (geo.NAME_2_UP == 'MILANO'), 'NAME_2_UP'] = 'MONZA E DELLA BRIANZA'\n",
    "for loc in [4559, 4572, 4587, 4590, 4601, 4603, 4611]:\n",
    "    geo.loc[loc, 'NAME_1_UP'] = 'EMILIA-ROMAGNA'\n",
    "    geo.loc[loc, 'NAME_2_UP'] = 'RIMINI'\n",
    "geo.loc[4604, 'NAME_2_UP'] = 'ANCONA'"
   ]
  },
  {
   "cell_type": "code",
   "execution_count": 579,
   "metadata": {},
   "outputs": [],
   "source": [
    "geo.loc[6075, 'NAME_2_UP'] = 'OLBIA-TEMPIO'\n",
    "geo.loc[6079, 'NAME_2_UP'] = 'CAGLIARI'\n",
    "geo.loc[6080, 'NAME_2_UP'] = 'CAGLIARI'\n",
    "geo.loc[6085, 'NAME_2_UP'] = 'ORISTANO'\n",
    "geo.loc[6086, 'NAME_2_UP'] = 'CAGLIARI'\n",
    "geo.loc[6088, 'NAME_2_UP'] = 'CAGLIARI'\n",
    "geo.loc[6089, 'NAME_2_UP'] = 'ORISTANO'\n",
    "geo.loc[6100, 'NAME_2_UP'] = 'CAGLIARI'\n",
    "geo.loc[6101, 'NAME_2_UP'] = 'CAGLIARI'\n",
    "geo.loc[6102, 'NAME_2_UP'] = 'CAGLIARI'\n",
    "geo.loc[6113, 'NAME_2_UP'] = 'CAGLIARI'\n",
    "geo.loc[6120, 'NAME_2_UP'] = 'CAGLIARI'\n",
    "geo.loc[6121, 'NAME_2_UP'] = 'OLBIA-TEMPIO'\n",
    "geo.loc[6123, 'NAME_2_UP'] = 'CAGLIARI'\n",
    "geo.loc[6124, 'NAME_2_UP'] = 'CAGLIARI'\n",
    "geo.loc[6133, 'NAME_2_UP'] = 'CAGLIARI'\n",
    "geo.loc[6139, 'NAME_2_UP'] = 'CAGLIARI'"
   ]
  },
  {
   "cell_type": "code",
   "execution_count": 580,
   "metadata": {},
   "outputs": [],
   "source": [
    "geo = geo.merge(df[['region', 'province', 'commune', 'turnout']],\n",
    "               left_on=['NAME_1_UP', 'NAME_2_UP', 'NAME_3_UP'],\n",
    "               right_on=['region', 'province', 'commune'],\n",
    "               how='left',\n",
    "               suffixes=('', '_x'))\n",
    "geo = geo[[x for x in geo.columns if not x.endswith('_x') or 'turnout' in x]]\n",
    "\n",
    "geo.turnout = geo.turnout.fillna(geo.turnout_x)\n",
    "geo = geo.drop('turnout_x', axis=1)"
   ]
  },
  {
   "cell_type": "markdown",
   "metadata": {},
   "source": [
    "## Export"
   ]
  },
  {
   "cell_type": "code",
   "execution_count": 584,
   "metadata": {},
   "outputs": [],
   "source": [
    "geo = geo[['NAME_3', 'turnout', 'geometry']]\n",
    "geo = geo.rename(columns={'NAME_3': 'name'})\n",
    "geo['country'] = 'ita'"
   ]
  },
  {
   "cell_type": "code",
   "execution_count": 586,
   "metadata": {},
   "outputs": [],
   "source": [
    "geo.to_file('../../data/processed/ita')"
   ]
  },
  {
   "cell_type": "code",
   "execution_count": null,
   "metadata": {},
   "outputs": [],
   "source": []
  }
 ],
 "metadata": {
  "kernelspec": {
   "display_name": "Python 3",
   "language": "python",
   "name": "python3"
  },
  "language_info": {
   "codemirror_mode": {
    "name": "ipython",
    "version": 3
   },
   "file_extension": ".py",
   "mimetype": "text/x-python",
   "name": "python",
   "nbconvert_exporter": "python",
   "pygments_lexer": "ipython3",
   "version": "3.7.3"
  }
 },
 "nbformat": 4,
 "nbformat_minor": 2
}
