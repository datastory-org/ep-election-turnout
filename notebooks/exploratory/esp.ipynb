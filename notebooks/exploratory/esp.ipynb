{
 "cells": [
  {
   "cell_type": "markdown",
   "metadata": {},
   "source": [
    "# Spain"
   ]
  },
  {
   "cell_type": "code",
   "execution_count": 1,
   "metadata": {},
   "outputs": [],
   "source": [
    "import pandas as pd\n",
    "import geopandas as gpd\n",
    "from bs4 import BeautifulSoup\n",
    "import matplotlib.pyplot as plt\n",
    "import numpy as np\n",
    "import requests\n",
    "from fuzzywuzzy import process, fuzz\n",
    "\n",
    "%config InlineBackend.figure_format = 'retina'\n",
    "pd.options.mode.chained_assignment = None"
   ]
  },
  {
   "cell_type": "markdown",
   "metadata": {},
   "source": [
    "## Fetch results"
   ]
  },
  {
   "cell_type": "code",
   "execution_count": 71,
   "metadata": {},
   "outputs": [],
   "source": [
    "home_url = 'http://www.infoelectoral.mir.es/infoelectoral/flash/swf/flashdata/map99_0.xml'"
   ]
  },
  {
   "cell_type": "code",
   "execution_count": 72,
   "metadata": {},
   "outputs": [],
   "source": [
    "def get_index():\n",
    "    r = requests.get(home_url)\n",
    "    r.encoding = 'utf8'\n",
    "    html = BeautifulSoup(r.text)\n",
    "    return html"
   ]
  },
  {
   "cell_type": "code",
   "execution_count": 499,
   "metadata": {},
   "outputs": [],
   "source": [
    "def construct_municipality_url(row):\n",
    "    url = ('http://www.infoelectoral.mir.es/infoelectoral/min/mapa.html?'\n",
    "          'private=0&vuelta=1&method=getXmlResumen&codTipoEleccion=7&codPeriodo=201405&codEstado=99')\n",
    "    url = f'{url}&codComunidad={row.community_id}'\n",
    "    url = f'{url}&codProvincia={row.province_id}'\n",
    "    url = f'{url}&codMunicipio={row.municipality_id}'\n",
    "    return url"
   ]
  },
  {
   "cell_type": "code",
   "execution_count": 500,
   "metadata": {},
   "outputs": [],
   "source": [
    "def parse_municipality(url):\n",
    "    r = requests.get(url)\n",
    "    html = BeautifulSoup(r.text)\n",
    "    title = html.select_one('resumen').attrs['titulo']\n",
    "    voted = r.text.split('votantes:</b>')[1].split('<br/>')[0].strip()\n",
    "    voters, turnout = voted.split('(')\n",
    "    voters = int(voters.replace('.', '').strip())\n",
    "    turnout = turnout[:-2]\n",
    "    turnout = float(turnout.replace(',', '.'))\n",
    "    eligible = r.text.split('electoral:</b>')[1].split('<br/>')[0].strip()\n",
    "    eligible = int(eligible.replace('.', ''))\n",
    "    return {'municipality': title, 'eligible': eligible, 'voters': voters, 'turnout': turnout}"
   ]
  },
  {
   "cell_type": "code",
   "execution_count": 73,
   "metadata": {},
   "outputs": [],
   "source": [
    "index = get_index()"
   ]
  },
  {
   "cell_type": "code",
   "execution_count": 502,
   "metadata": {},
   "outputs": [],
   "source": [
    "meta = []\n",
    "for community in index.select('comunidadautonoma')[1:]:\n",
    "    community_id = community.attrs['id']\n",
    "    community_name = community.attrs['nombre']\n",
    "    for province in community.select('provincia'):\n",
    "        province_id = province.attrs['id']\n",
    "        province_name = province.attrs['nombre']\n",
    "        for municipality in province.select('municipio'):\n",
    "            municipality_id = municipality.attrs['id']\n",
    "            municipality_name = municipality.attrs['nombre']\n",
    "            meta.append({\n",
    "                'community_id': community_id,\n",
    "                'community_name': community_name,\n",
    "                'province_id': province_id,\n",
    "                'province_name': province_name,\n",
    "                'municipality_id': municipality_id,\n",
    "                'municipality_name': municipality_name\n",
    "            })\n",
    "\n",
    "meta = pd.DataFrame(meta)"
   ]
  },
  {
   "cell_type": "code",
   "execution_count": 503,
   "metadata": {},
   "outputs": [],
   "source": [
    "meta['url'] = meta.apply(construct_municipality_url, axis=1)"
   ]
  },
  {
   "cell_type": "code",
   "execution_count": 504,
   "metadata": {},
   "outputs": [],
   "source": [
    "meta['data'] = None"
   ]
  },
  {
   "cell_type": "code",
   "execution_count": 505,
   "metadata": {},
   "outputs": [
    {
     "name": "stdout",
     "output_type": "stream",
     "text": [
      "0\n",
      "1000\n",
      "2000\n",
      "3000\n",
      "4000\n",
      "5000\n",
      "6000\n",
      "7000\n",
      "8000\n",
      "CPU times: user 58.6 s, sys: 5.14 s, total: 1min 3s\n",
      "Wall time: 23min 39s\n"
     ]
    }
   ],
   "source": [
    "%%time\n",
    "for i, row in meta.iterrows():\n",
    "    if i % 1000 == 0:\n",
    "        print(i)\n",
    "    try:\n",
    "        row['data'] = parse_municipality(row.url)\n",
    "    except IndexError:\n",
    "        row['data'] = None\n",
    "        continue"
   ]
  },
  {
   "cell_type": "code",
   "execution_count": 506,
   "metadata": {},
   "outputs": [],
   "source": [
    "meta = pd.concat([meta, meta.data.apply(pd.Series)], axis=1)\n",
    "meta = meta.drop('data', axis=1)"
   ]
  },
  {
   "cell_type": "code",
   "execution_count": 507,
   "metadata": {},
   "outputs": [],
   "source": [
    "def fix_cesuras():\n",
    "    \"\"\"Hack to fix municipality of Oza-Cesuras. Numbers from website.\"\"\"\n",
    "    meta.loc[lambda x: x.municipality_name.isin(['Cesuras', 'Oza dos Ríos']), 'eligible'] = 4729 / 2\n",
    "    meta.loc[lambda x: x.municipality_name.isin(['Cesuras', 'Oza dos Ríos']), 'voters'] = 2032 / 2\n",
    "    meta.loc[lambda x: x.municipality_name.isin(['Cesuras', 'Oza dos Ríos']), 'turnout'] = 42.97\n",
    "\n",
    "fix_cesuras()"
   ]
  },
  {
   "cell_type": "code",
   "execution_count": 508,
   "metadata": {},
   "outputs": [],
   "source": [
    "def fix_petilla():\n",
    "    \"\"\"Hack of mistake in map\"\"\"\n",
    "    geo.loc[lambda x: x.NAME_4 == 'Petilla de Aragón', 'NAME_1'] = 'Comunidad Foral de Navarra'\n",
    "    geo.loc[lambda x: x.NAME_4 == 'Petilla de Aragón', 'NAME_2'] = 'Navarra'\n",
    "\n",
    "fix_petilla()"
   ]
  },
  {
   "cell_type": "code",
   "execution_count": 509,
   "metadata": {},
   "outputs": [],
   "source": [
    "meta['prefix'] = meta.municipality_name.str.extract('\\((\\D+)\\)')[0]\n",
    "meta['prefix'] = meta['prefix'].str.replace(\"l'\", \"L'\")\n",
    "meta.prefix = meta.prefix.str.capitalize()\n",
    "\n",
    "def move_prefix(row):\n",
    "    if pd.isnull(row.prefix):\n",
    "        return row.municipality_name\n",
    "    elif row.prefix == \"L'\":\n",
    "        name = f\"L'{row.municipality_name}\"\n",
    "        name = name.split('(')[0].strip()\n",
    "        return name\n",
    "    else:\n",
    "        name = f'{row.prefix} {row.municipality_name}'\n",
    "        name = name.split('(')[0].strip()\n",
    "        return name\n",
    "\n",
    "meta['municipality_name'] = meta.apply(move_prefix, axis=1)"
   ]
  },
  {
   "cell_type": "code",
   "execution_count": 510,
   "metadata": {},
   "outputs": [],
   "source": [
    "meta.community_name = meta.community_name.replace('Comunitat Valenciana', 'Comunidad Valenciana')\n",
    "meta.community_name = meta.community_name.replace('Illes Balears', 'Islas Baleares')\n",
    "meta.community_name = meta.community_name.replace('Canarias', 'Islas Canarias')\n",
    "meta.community_name = meta.community_name.replace('Ciudad de Ceuta', 'Ceuta y Melilla')\n",
    "meta.community_name = meta.community_name.replace('Ciudad de Melilla', 'Ceuta y Melilla')\n",
    "\n",
    "meta.province_name = meta.province_name.str.split(' /', expand=True)[0]\n",
    "meta.province_name = meta.province_name.replace('Guipuzcoa', 'Guipúzcoa')\n",
    "meta.province_name = meta.province_name.replace('Illes Balears', 'Baleares')"
   ]
  },
  {
   "cell_type": "code",
   "execution_count": 511,
   "metadata": {},
   "outputs": [],
   "source": [
    "meta.municipality_name = meta.municipality_name.replace('El Herradón', 'Herradón de Pinares')\n",
    "meta.municipality_name = meta.municipality_name.replace('La Villajoyosa/Vila Joiosa', 'Villajoyosa')\n",
    "meta.municipality_name = meta.municipality_name.replace('Vila-real', 'Villarreal')\n",
    "meta.municipality_name = meta.municipality_name.replace('El Pinós', 'Pinoso')\n",
    "meta.municipality_name = meta.municipality_name.replace('El Fondó de les Neus', 'Hondón de las Nieves')\n",
    "meta.loc[lambda x: x.municipality_name.str.contains('Valle de elorz'), 'municipality_name'] = 'Noáin'\n",
    "meta.loc[lambda x: x.municipality_name == 'Urduña-Orduña', 'province_name'] = 'Álava'\n",
    "meta.municipality_name = meta.municipality_name.replace('Orkoien', 'Orcoyen')\n",
    "meta.municipality_name = meta.municipality_name.replace('Mungia', 'Mungai')\n",
    "meta.municipality_name = meta.municipality_name.replace('Garai', 'Garay')\n",
    "meta.municipality_name = meta.municipality_name.replace('Ager', 'Àger')\n",
    "meta.municipality_name = meta.municipality_name.replace('Boadella i les Escaules', \"Boadella d'Empordà\")\n",
    "meta.municipality_name = meta.municipality_name.replace(\"Cabrera d'Anoia\", \"Cabrera d'Igualada\")\n",
    "meta.municipality_name = meta.municipality_name.replace(\"L'Alqueria de la Comtessa\", \"Alquería de la Condesa\")\n",
    "meta.municipality_name = meta.municipality_name.replace(\"La Aldea de San Nicolás\", \"San Nicolás de Tolentino\")\n",
    "meta.municipality_name = meta.municipality_name.replace(\"Llocnou de la Corona\", \"Lugar Nuevo de la Corona\")\n",
    "meta.municipality_name = meta.municipality_name.replace(\"Maó\", \"Mahón\")\n",
    "meta.municipality_name = meta.municipality_name.replace(\"Valle de Villaverde\", \"Villaverde de Trucíos\")"
   ]
  },
  {
   "cell_type": "code",
   "execution_count": 512,
   "metadata": {},
   "outputs": [],
   "source": [
    "# Fuzzy match the rest\n",
    "missing = meta[~meta.municipality_name.isin(list(geo.NAME_4))].copy()\n",
    "\n",
    "missing['fuzz'] = missing.municipality_name.apply(lambda x:\n",
    "    process.extractOne(x,\n",
    "                       geo.NAME_4[~geo.NAME_4.isin(meta.municipality_name)],\n",
    "                       scorer=fuzz.token_set_ratio))\n",
    "\n",
    "missing = missing[missing[['municipality_name', 'fuzz']].apply(lambda x: x.fuzz[1] >= 89, axis=1)]\n",
    "missing['municipality_name_fuzz'] = missing.fuzz.apply(lambda x: x[0])\n",
    "meta = meta.merge(missing.municipality_name_fuzz, left_index=True, right_index=True, how='left')\n",
    "meta.municipality_name = meta.municipality_name_fuzz.fillna(meta.municipality_name)"
   ]
  },
  {
   "cell_type": "code",
   "execution_count": 516,
   "metadata": {},
   "outputs": [],
   "source": [
    "meta.to_csv('../../data/raw/esp.csv', index=False)"
   ]
  },
  {
   "cell_type": "code",
   "execution_count": 7,
   "metadata": {},
   "outputs": [],
   "source": [
    "meta = pd.read_csv('../../data/raw/esp.csv')"
   ]
  },
  {
   "cell_type": "markdown",
   "metadata": {},
   "source": [
    "## Merge"
   ]
  },
  {
   "cell_type": "code",
   "execution_count": 4,
   "metadata": {},
   "outputs": [],
   "source": [
    "geo = gpd.read_file('../../data/shapefiles/esp/gadm36_ESP_4.shp')"
   ]
  },
  {
   "cell_type": "code",
   "execution_count": 5,
   "metadata": {},
   "outputs": [],
   "source": [
    "geo.NAME_4 = geo.NAME_4.replace('La JoyosaJ', 'La Joyosa')\n",
    "geo.NAME_4 = geo.NAME_4.replace('Karrantza Harana', 'Harana')"
   ]
  },
  {
   "cell_type": "code",
   "execution_count": 8,
   "metadata": {},
   "outputs": [],
   "source": [
    "geo = geo.merge(meta[['community_name', 'province_name', 'municipality_name', 'turnout']],\n",
    "          left_on=['NAME_1', 'NAME_2', 'NAME_4'],\n",
    "          right_on=['community_name', 'province_name', 'municipality_name'],\n",
    "          how='left')"
   ]
  },
  {
   "cell_type": "markdown",
   "metadata": {},
   "source": [
    "## Export"
   ]
  },
  {
   "cell_type": "code",
   "execution_count": 519,
   "metadata": {},
   "outputs": [],
   "source": [
    "geo = geo[['NAME_4', 'turnout', 'geometry']]\n",
    "geo = geo.rename(columns={'NAME_4': 'name'})\n",
    "geo['country'] = 'esp'"
   ]
  },
  {
   "cell_type": "code",
   "execution_count": 520,
   "metadata": {},
   "outputs": [],
   "source": [
    "geo.to_file('../../data/processed/esp')"
   ]
  }
 ],
 "metadata": {
  "kernelspec": {
   "display_name": "Python 3",
   "language": "python",
   "name": "python3"
  },
  "language_info": {
   "codemirror_mode": {
    "name": "ipython",
    "version": 3
   },
   "file_extension": ".py",
   "mimetype": "text/x-python",
   "name": "python",
   "nbconvert_exporter": "python",
   "pygments_lexer": "ipython3",
   "version": "3.7.3"
  }
 },
 "nbformat": 4,
 "nbformat_minor": 2
}
