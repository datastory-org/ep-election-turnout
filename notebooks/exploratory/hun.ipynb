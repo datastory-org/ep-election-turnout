{
 "cells": [
  {
   "cell_type": "markdown",
   "metadata": {},
   "source": [
    "# Hungary"
   ]
  },
  {
   "cell_type": "code",
   "execution_count": 50,
   "metadata": {},
   "outputs": [],
   "source": [
    "import pandas as pd\n",
    "import geopandas as gpd\n",
    "\n",
    "pd.options.mode.chained_assignment = None"
   ]
  },
  {
   "cell_type": "code",
   "execution_count": 51,
   "metadata": {},
   "outputs": [],
   "source": [
    "geo = gpd.read_file('../../data/shapefiles/hun/gadm36_HUN_1.shp')"
   ]
  },
  {
   "cell_type": "code",
   "execution_count": 52,
   "metadata": {},
   "outputs": [],
   "source": [
    "turnouts = {\n",
    "    'Gyor-Moson-Sopron': 29.33,\n",
    "    'Vas': 30.59,\n",
    "    'Veszprém': 28.52,\n",
    "    'Zala': 28.01,\n",
    "    'Komárom-Esztergom': 26.96,\n",
    "    'Fejér': 27.72,\n",
    "    'Tolna': 25.64,\n",
    "    'Baranya': 26.62,\n",
    "    'Bács-Kiskun': 24.76,\n",
    "    'Budapest': 38.83,\n",
    "    'Pest': 29.48,\n",
    "    'Nógrád': 26.92,\n",
    "    'Heves': 28.64,\n",
    "    'Jász-Nagykun-Szolnok': 24.85,\n",
    "    'Békés': 25.23,\n",
    "    'Szabolcs-Szatmár-Bereg': 24.58,\n",
    "    'Hajdú-Bihar': 23.82,\n",
    "    'Csongrád': 26.88,\n",
    "    'Borsod-Abaúj-Zemplén': 25.65,\n",
    "    'Somogy': 26.43\n",
    "}"
   ]
  },
  {
   "cell_type": "code",
   "execution_count": 53,
   "metadata": {},
   "outputs": [],
   "source": [
    "geo['turnout'] = geo.NAME_1.map(turnouts)"
   ]
  },
  {
   "cell_type": "code",
   "execution_count": 55,
   "metadata": {},
   "outputs": [],
   "source": [
    "geo = geo[['NAME_1', 'turnout', 'geometry']]\n",
    "geo = geo.rename(columns={'NAME_1': 'name'})\n",
    "geo['country'] = 'hun'"
   ]
  },
  {
   "cell_type": "code",
   "execution_count": 58,
   "metadata": {},
   "outputs": [],
   "source": [
    "geo.to_file('../../data/processed/hun')"
   ]
  },
  {
   "cell_type": "code",
   "execution_count": null,
   "metadata": {},
   "outputs": [],
   "source": []
  }
 ],
 "metadata": {
  "kernelspec": {
   "display_name": "Python 3",
   "language": "python",
   "name": "python3"
  },
  "language_info": {
   "codemirror_mode": {
    "name": "ipython",
    "version": 3
   },
   "file_extension": ".py",
   "mimetype": "text/x-python",
   "name": "python",
   "nbconvert_exporter": "python",
   "pygments_lexer": "ipython3",
   "version": "3.7.3"
  }
 },
 "nbformat": 4,
 "nbformat_minor": 2
}
