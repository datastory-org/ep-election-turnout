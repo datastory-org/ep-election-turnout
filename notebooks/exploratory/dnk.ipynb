{
 "cells": [
  {
   "cell_type": "markdown",
   "metadata": {},
   "source": [
    "# Denmark"
   ]
  },
  {
   "cell_type": "code",
   "execution_count": 13,
   "metadata": {},
   "outputs": [],
   "source": [
    "import pandas as pd\n",
    "import geopandas as gpd\n",
    "\n",
    "pd.options.mode.chained_assignment = None"
   ]
  },
  {
   "cell_type": "markdown",
   "metadata": {},
   "source": [
    "## Fetch results"
   ]
  },
  {
   "cell_type": "code",
   "execution_count": 23,
   "metadata": {},
   "outputs": [],
   "source": [
    "df = pd.read_csv('../../data/raw/dnk.csv', sep=';', encoding='latin1', skiprows=1)"
   ]
  },
  {
   "cell_type": "code",
   "execution_count": 24,
   "metadata": {},
   "outputs": [
    {
     "data": {
      "text/html": [
       "<div>\n",
       "<style scoped>\n",
       "    .dataframe tbody tr th:only-of-type {\n",
       "        vertical-align: middle;\n",
       "    }\n",
       "\n",
       "    .dataframe tbody tr th {\n",
       "        vertical-align: top;\n",
       "    }\n",
       "\n",
       "    .dataframe thead th {\n",
       "        text-align: right;\n",
       "    }\n",
       "</style>\n",
       "<table border=\"1\" class=\"dataframe\">\n",
       "  <thead>\n",
       "    <tr style=\"text-align: right;\">\n",
       "      <th></th>\n",
       "      <th></th>\n",
       "      <th>.1</th>\n",
       "      <th>VALID BALLOTS</th>\n",
       "      <th>PERSONAL BALLOTS</th>\n",
       "      <th>VALID ABSENTEE BALLOTS</th>\n",
       "      <th>INVALID BALLOTS</th>\n",
       "      <th>INVALID BALLOTS CAST ON POLLING STATION</th>\n",
       "      <th>Blanks</th>\n",
       "      <th>INVALID ABSENTEE BALLOTS</th>\n",
       "      <th>Blanks.1</th>\n",
       "      <th>NUMBER OF VOTERS</th>\n",
       "    </tr>\n",
       "  </thead>\n",
       "  <tbody>\n",
       "    <tr>\n",
       "      <th>0</th>\n",
       "      <td>2014</td>\n",
       "      <td>NaN</td>\n",
       "      <td>NaN</td>\n",
       "      <td>NaN</td>\n",
       "      <td>NaN</td>\n",
       "      <td>NaN</td>\n",
       "      <td>NaN</td>\n",
       "      <td>NaN</td>\n",
       "      <td>NaN</td>\n",
       "      <td>NaN</td>\n",
       "      <td>NaN</td>\n",
       "    </tr>\n",
       "    <tr>\n",
       "      <th>1</th>\n",
       "      <td></td>\n",
       "      <td>Copenhagen</td>\n",
       "      <td>219140.0</td>\n",
       "      <td>145524.0</td>\n",
       "      <td>18511.0</td>\n",
       "      <td>6347.0</td>\n",
       "      <td>5851.0</td>\n",
       "      <td>4783.0</td>\n",
       "      <td>496.0</td>\n",
       "      <td>217.0</td>\n",
       "      <td>400933.0</td>\n",
       "    </tr>\n",
       "    <tr>\n",
       "      <th>2</th>\n",
       "      <td></td>\n",
       "      <td>Frederiksberg</td>\n",
       "      <td>46087.0</td>\n",
       "      <td>32153.0</td>\n",
       "      <td>5406.0</td>\n",
       "      <td>992.0</td>\n",
       "      <td>868.0</td>\n",
       "      <td>781.0</td>\n",
       "      <td>124.0</td>\n",
       "      <td>69.0</td>\n",
       "      <td>74849.0</td>\n",
       "    </tr>\n",
       "    <tr>\n",
       "      <th>3</th>\n",
       "      <td></td>\n",
       "      <td>Dragør</td>\n",
       "      <td>6088.0</td>\n",
       "      <td>4894.0</td>\n",
       "      <td>543.0</td>\n",
       "      <td>105.0</td>\n",
       "      <td>88.0</td>\n",
       "      <td>73.0</td>\n",
       "      <td>17.0</td>\n",
       "      <td>14.0</td>\n",
       "      <td>10208.0</td>\n",
       "    </tr>\n",
       "    <tr>\n",
       "      <th>4</th>\n",
       "      <td></td>\n",
       "      <td>Tårnby</td>\n",
       "      <td>15990.0</td>\n",
       "      <td>12070.0</td>\n",
       "      <td>1178.0</td>\n",
       "      <td>361.0</td>\n",
       "      <td>324.0</td>\n",
       "      <td>286.0</td>\n",
       "      <td>37.0</td>\n",
       "      <td>19.0</td>\n",
       "      <td>30709.0</td>\n",
       "    </tr>\n",
       "  </tbody>\n",
       "</table>\n",
       "</div>"
      ],
      "text/plain": [
       "                    .1  VALID BALLOTS  PERSONAL BALLOTS  \\\n",
       "0  2014            NaN            NaN               NaN   \n",
       "1           Copenhagen       219140.0          145524.0   \n",
       "2        Frederiksberg        46087.0           32153.0   \n",
       "3               Dragør         6088.0            4894.0   \n",
       "4               Tårnby        15990.0           12070.0   \n",
       "\n",
       "   VALID ABSENTEE BALLOTS  INVALID BALLOTS  \\\n",
       "0                     NaN              NaN   \n",
       "1                 18511.0           6347.0   \n",
       "2                  5406.0            992.0   \n",
       "3                   543.0            105.0   \n",
       "4                  1178.0            361.0   \n",
       "\n",
       "   INVALID BALLOTS CAST ON POLLING STATION  Blanks  INVALID ABSENTEE BALLOTS  \\\n",
       "0                                      NaN     NaN                       NaN   \n",
       "1                                   5851.0  4783.0                     496.0   \n",
       "2                                    868.0   781.0                     124.0   \n",
       "3                                     88.0    73.0                      17.0   \n",
       "4                                    324.0   286.0                      37.0   \n",
       "\n",
       "   Blanks.1  NUMBER OF VOTERS  \n",
       "0       NaN               NaN  \n",
       "1     217.0          400933.0  \n",
       "2      69.0           74849.0  \n",
       "3      14.0           10208.0  \n",
       "4      19.0           30709.0  "
      ]
     },
     "execution_count": 24,
     "metadata": {},
     "output_type": "execute_result"
    }
   ],
   "source": [
    "df.head()"
   ]
  },
  {
   "cell_type": "code",
   "execution_count": 25,
   "metadata": {},
   "outputs": [
    {
     "data": {
      "text/plain": [
       "0.5631566581645651"
      ]
     },
     "execution_count": 25,
     "metadata": {},
     "output_type": "execute_result"
    }
   ],
   "source": [
    "(df['VALID BALLOTS'].sum() + df['INVALID BALLOTS'].sum()) / df['NUMBER OF VOTERS'].sum()"
   ]
  },
  {
   "cell_type": "code",
   "execution_count": 26,
   "metadata": {},
   "outputs": [],
   "source": [
    "df['turnout'] = (df['VALID BALLOTS'] + df['INVALID BALLOTS']) / df['NUMBER OF VOTERS']\n",
    "df = df.iloc[1:]\n",
    "df = df.rename(columns={' .1': 'name'})\n",
    "df = df[['name', 'turnout']]"
   ]
  },
  {
   "cell_type": "code",
   "execution_count": 28,
   "metadata": {},
   "outputs": [],
   "source": [
    "df.turnout = df.turnout * 100"
   ]
  },
  {
   "cell_type": "markdown",
   "metadata": {},
   "source": [
    "## Merge"
   ]
  },
  {
   "cell_type": "code",
   "execution_count": 29,
   "metadata": {},
   "outputs": [],
   "source": [
    "geo = gpd.read_file('../../data/shapefiles/dnk/gadm36_DNK_2.shp')"
   ]
  },
  {
   "cell_type": "code",
   "execution_count": 30,
   "metadata": {},
   "outputs": [],
   "source": [
    "df.name = df.name.replace('Copenhagen', 'København')\n",
    "df.name = df.name.replace('Høje-Taastrup', 'Høje Taastrup')\n",
    "df.name = df.name.replace('Aarhus', 'Århus')\n",
    "df.name = df.name.replace('Vesthimmerlands', 'Vesthimmerland')"
   ]
  },
  {
   "cell_type": "code",
   "execution_count": 31,
   "metadata": {},
   "outputs": [],
   "source": [
    "geo = geo.merge(df, left_on='NAME_2', right_on='name', how='left')"
   ]
  },
  {
   "cell_type": "markdown",
   "metadata": {},
   "source": [
    "## Export"
   ]
  },
  {
   "cell_type": "code",
   "execution_count": 32,
   "metadata": {},
   "outputs": [],
   "source": [
    "geo = geo[['name', 'turnout', 'geometry']]"
   ]
  },
  {
   "cell_type": "code",
   "execution_count": 33,
   "metadata": {},
   "outputs": [],
   "source": [
    "geo['country'] = 'dnk'"
   ]
  },
  {
   "cell_type": "code",
   "execution_count": 35,
   "metadata": {},
   "outputs": [],
   "source": [
    "geo.to_file('../../data/processed/dnk', encoding='utf8')"
   ]
  },
  {
   "cell_type": "code",
   "execution_count": null,
   "metadata": {},
   "outputs": [],
   "source": []
  }
 ],
 "metadata": {
  "kernelspec": {
   "display_name": "Python 3",
   "language": "python",
   "name": "python3"
  },
  "language_info": {
   "codemirror_mode": {
    "name": "ipython",
    "version": 3
   },
   "file_extension": ".py",
   "mimetype": "text/x-python",
   "name": "python",
   "nbconvert_exporter": "python",
   "pygments_lexer": "ipython3",
   "version": "3.7.3"
  }
 },
 "nbformat": 4,
 "nbformat_minor": 2
}
