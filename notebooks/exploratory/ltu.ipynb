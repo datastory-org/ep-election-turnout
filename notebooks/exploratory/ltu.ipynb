{
 "cells": [
  {
   "cell_type": "markdown",
   "metadata": {},
   "source": [
    "# Lithuania"
   ]
  },
  {
   "cell_type": "code",
   "execution_count": 1,
   "metadata": {},
   "outputs": [],
   "source": [
    "import pandas as pd\n",
    "import geopandas as gpd\n",
    "import matplotlib.pyplot as plt\n",
    "import requests\n",
    "from bs4 import BeautifulSoup\n",
    "\n",
    "%config InlineBackend.figure_format = 'retina'\n",
    "pd.options.mode.chained_assignment = None"
   ]
  },
  {
   "cell_type": "markdown",
   "metadata": {},
   "source": [
    "## Fetch results"
   ]
  },
  {
   "cell_type": "code",
   "execution_count": 21,
   "metadata": {},
   "outputs": [],
   "source": [
    "base_url = 'https://www.vrk.lt'\n",
    "home_url = (f'{base_url}/statiniai/puslapiai/2014_ep_rinkimai/output_lt/'\n",
    "             'rezultatai_daugiamand_apygardose/rezultatai_daugiamand_apygardose1turas.html')"
   ]
  },
  {
   "cell_type": "code",
   "execution_count": 290,
   "metadata": {},
   "outputs": [],
   "source": [
    "headers = {\n",
    "    'user-agent': 'Mozilla/5.0 (Macintosh; Intel Mac OS X 10_14_0) AppleWebKit/537.36 (KHTML, like Gecko) Chrome/73.0.3683.103 Safari/537.36',\n",
    "    'if-none-match': 'W/\"5550b592-75a3\"',\n",
    "    'cookie': '__cfduid=da62b75860db603501549d9bf586b94e21557856557; cf_clearance=e02672356d73813751c650754f05920ae79bbfb7-1557856561-1800-150'\n",
    "}"
   ]
  },
  {
   "cell_type": "code",
   "execution_count": 291,
   "metadata": {},
   "outputs": [],
   "source": [
    "def get_municipalities():\n",
    "    r = requests.get(home_url, headers=headers)\n",
    "    r.encoding = 'utf8'\n",
    "    html = BeautifulSoup(r.text)\n",
    "    table = html.select('table.partydata table.partydata')[2]\n",
    "    tds = table.select('td[align=left]')\n",
    "    links = [(x.select_one('a').attrs['href'], x.select_one('a').text)\n",
    "             for x in tds]\n",
    "    return links"
   ]
  },
  {
   "cell_type": "code",
   "execution_count": 292,
   "metadata": {},
   "outputs": [],
   "source": [
    "def get_district_turnouts(url):\n",
    "    url = f'{base_url}{url}'\n",
    "    r = requests.get(url, headers=headers)\n",
    "    r.encoding = 'utf8'\n",
    "    if 'Checking your browser' in r.text:\n",
    "        raise ValueError('Browser check')\n",
    "    html = BeautifulSoup(r.text)\n",
    "    table = html.select('table.partydata table.partydata')[2]\n",
    "    data = pd.read_html(str(table), header=1)[0].iloc[:-1]\n",
    "    return data"
   ]
  },
  {
   "cell_type": "code",
   "execution_count": 293,
   "metadata": {},
   "outputs": [],
   "source": [
    "municipalities = get_municipalities()"
   ]
  },
  {
   "cell_type": "code",
   "execution_count": null,
   "metadata": {},
   "outputs": [],
   "source": [
    "data = []\n",
    "\n",
    "for m_url, m_name in municipalities:\n",
    "    table = get_district_turnouts(m_url)\n",
    "    table['municipality'] = m_name\n",
    "    data.append(table)"
   ]
  },
  {
   "cell_type": "code",
   "execution_count": 295,
   "metadata": {},
   "outputs": [],
   "source": [
    "df = pd.concat(data)"
   ]
  },
  {
   "cell_type": "code",
   "execution_count": 296,
   "metadata": {},
   "outputs": [],
   "source": [
    "df = df[['Apylinkė', 'Rinkėjų skaičius', 'skaičius', 'proc.', 'municipality']]"
   ]
  },
  {
   "cell_type": "code",
   "execution_count": 297,
   "metadata": {},
   "outputs": [
    {
     "data": {
      "text/plain": [
       "0.4735350573701597"
      ]
     },
     "execution_count": 297,
     "metadata": {},
     "output_type": "execute_result"
    }
   ],
   "source": [
    "# Should be 47.35%\n",
    "df['skaičius'].sum() / df['Rinkėjų skaičius'].sum()"
   ]
  },
  {
   "cell_type": "code",
   "execution_count": 298,
   "metadata": {},
   "outputs": [],
   "source": [
    "df.columns = ['district', 'eligible', 'voters', 'turnout', 'municipality']"
   ]
  },
  {
   "cell_type": "code",
   "execution_count": 299,
   "metadata": {},
   "outputs": [],
   "source": [
    "df = df[~df.district.str.contains('diplomat')]"
   ]
  },
  {
   "cell_type": "code",
   "execution_count": 300,
   "metadata": {},
   "outputs": [],
   "source": [
    "df.turnout = df.turnout.apply(lambda x: float(x[:2] + '.' + x[2:]))"
   ]
  },
  {
   "cell_type": "code",
   "execution_count": 301,
   "metadata": {},
   "outputs": [],
   "source": [
    "df['APL_NUM'] = df.district.str.split('.', expand=True)[0].astype(int)"
   ]
  },
  {
   "cell_type": "code",
   "execution_count": 302,
   "metadata": {},
   "outputs": [],
   "source": [
    "df.district = df.district.str.replace('^\\d+\\. ', '').str.strip()\n",
    "df.municipality = df.municipality.str.replace('^\\d+\\. ', '').str.strip()"
   ]
  },
  {
   "cell_type": "code",
   "execution_count": 303,
   "metadata": {},
   "outputs": [],
   "source": [
    "df.municipality = df.municipality.str.replace('Vilniaus miesto ir užsienio', 'Vilniaus miesto')"
   ]
  },
  {
   "cell_type": "code",
   "execution_count": 304,
   "metadata": {},
   "outputs": [],
   "source": [
    "df.district = df.district.replace('A.Vienuolio', 'A. Vienuolio')\n",
    "df.district = df.district.replace('J.Tumo - Vaižganto', 'J.Tumo-Vaižganto')\n",
    "df.district = df.district.replace('M.Račkausko', 'M. Račkausko')\n",
    "df.district = df.district.replace('Vilkaviškio rytų', 'Vilkaviškio rytų')"
   ]
  },
  {
   "cell_type": "code",
   "execution_count": 314,
   "metadata": {},
   "outputs": [],
   "source": [
    "df.to_csv('../../data/raw/ltu.csv', index=False)"
   ]
  },
  {
   "cell_type": "code",
   "execution_count": 9,
   "metadata": {},
   "outputs": [],
   "source": [
    "df = pd.read_csv('../../data/raw/ltu.csv')"
   ]
  },
  {
   "cell_type": "markdown",
   "metadata": {},
   "source": [
    "## Merge"
   ]
  },
  {
   "cell_type": "code",
   "execution_count": 10,
   "metadata": {},
   "outputs": [],
   "source": [
    "geo = gpd.read_file('../../data/shapefiles/ltu/apylinkes.shp')"
   ]
  },
  {
   "cell_type": "code",
   "execution_count": 11,
   "metadata": {},
   "outputs": [],
   "source": [
    "geo = geo.to_crs(epsg=4326)"
   ]
  },
  {
   "cell_type": "code",
   "execution_count": 12,
   "metadata": {},
   "outputs": [],
   "source": [
    "geo = geo.merge(df,\n",
    "          right_on=['municipality', 'district', 'APL_NUM'],\n",
    "          left_on=['SAVIVALD', 'APL_PAV', 'APL_NUM'],\n",
    "          how='left')"
   ]
  },
  {
   "cell_type": "code",
   "execution_count": 310,
   "metadata": {},
   "outputs": [],
   "source": [
    "geo = geo[['district', 'turnout', 'geometry']]\n",
    "geo = geo.rename(columns={'district': 'name'})\n",
    "geo['country'] = 'ltu'"
   ]
  },
  {
   "cell_type": "markdown",
   "metadata": {},
   "source": [
    "## Export"
   ]
  },
  {
   "cell_type": "code",
   "execution_count": 312,
   "metadata": {},
   "outputs": [],
   "source": [
    "geo.to_file('../../data/processed/ltu')"
   ]
  },
  {
   "cell_type": "code",
   "execution_count": null,
   "metadata": {},
   "outputs": [],
   "source": []
  }
 ],
 "metadata": {
  "kernelspec": {
   "display_name": "Python 3",
   "language": "python",
   "name": "python3"
  },
  "language_info": {
   "codemirror_mode": {
    "name": "ipython",
    "version": 3
   },
   "file_extension": ".py",
   "mimetype": "text/x-python",
   "name": "python",
   "nbconvert_exporter": "python",
   "pygments_lexer": "ipython3",
   "version": "3.7.3"
  }
 },
 "nbformat": 4,
 "nbformat_minor": 2
}
