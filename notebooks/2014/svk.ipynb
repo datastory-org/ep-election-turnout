{
 "cells": [
  {
   "cell_type": "markdown",
   "metadata": {},
   "source": [
    "# Slovakia"
   ]
  },
  {
   "cell_type": "markdown",
   "metadata": {},
   "source": [
    "Note: Valaškovce (vojenský obvod) has 0 population."
   ]
  },
  {
   "cell_type": "code",
   "execution_count": 2,
   "metadata": {},
   "outputs": [],
   "source": [
    "import pandas as pd\n",
    "import geopandas as gpd\n",
    "from bs4 import BeautifulSoup\n",
    "import numpy as np\n",
    "\n",
    "pd.options.mode.chained_assignment = None"
   ]
  },
  {
   "cell_type": "markdown",
   "metadata": {},
   "source": [
    "## Fetch results"
   ]
  },
  {
   "cell_type": "code",
   "execution_count": 382,
   "metadata": {},
   "outputs": [],
   "source": [
    "selects = \"\"\"<select id=\"obvodSelect\" class=\"ObvodSelect\">    <option value=\"3216\">Bratislava</option><option value=\"3217\">Malacky</option><option value=\"3218\">Pezinok</option><option value=\"3219\">Senec</option></select>\n",
    "<select id=\"obvodSelect\" class=\"ObvodSelect\">    <option value=\"3220\">Dunajská Streda</option><option value=\"3221\">Galanta</option><option value=\"3222\">Piešťany</option><option value=\"3223\">Senica</option><option value=\"3224\">Trnava</option></select>\n",
    "<select id=\"obvodSelect\" class=\"ObvodSelect\">    <option value=\"3225\">Bánovce nad Bebravou</option><option value=\"3226\">Nové Mesto nad Váhom</option><option value=\"3227\">Považská Bystrica</option><option value=\"3228\">Prievidza</option><option value=\"3229\">Trenčín</option></select>\n",
    "<select id=\"obvodSelect\" class=\"ObvodSelect\">    <option value=\"3230\">Komárno</option><option value=\"3231\">Levice</option><option value=\"3232\">Nitra</option><option value=\"3233\">Nové Zámky</option><option value=\"3234\">Šaľa</option><option value=\"3235\">Topoľčany</option></select>\n",
    "<select id=\"obvodSelect\" class=\"ObvodSelect\">    <option value=\"3236\">Čadca</option><option value=\"3237\">Dolný Kubín</option><option value=\"3238\">Liptovský Mikuláš</option><option value=\"3239\">Martin</option><option value=\"3240\">Námestovo</option><option value=\"3241\">Ružomberok</option><option value=\"3242\">Žilina</option></select>\n",
    "<select id=\"obvodSelect\" class=\"ObvodSelect\">    <option value=\"3243\">Banská Bystrica</option><option value=\"3244\">Brezno</option><option value=\"3245\">Lučenec</option><option value=\"3246\">Rimavská Sobota</option><option value=\"3247\">Veľký Krtíš</option><option value=\"3248\">Zvolen</option><option value=\"3249\">Žiar nad Hronom</option></select>\n",
    "<select id=\"obvodSelect\" class=\"ObvodSelect\">    <option value=\"3250\">Bardejov</option><option value=\"3251\">Humenné</option><option value=\"3252\">Kežmarok</option><option value=\"3253\">Poprad</option><option value=\"3254\">Prešov</option><option value=\"3255\">Stará Ľubovňa</option><option value=\"3256\">Stropkov</option><option value=\"3257\">Svidník</option><option value=\"3258\">Vranov nad Topľou</option></select>\n",
    "<select id=\"obvodSelect\" class=\"ObvodSelect\">    <option value=\"3259\">Košice</option><option value=\"3260\">Košice - okolie</option><option value=\"3261\">Michalovce</option><option value=\"3262\">Rožňava</option><option value=\"3263\">Spišská Nová Ves</option><option value=\"3264\">Trebišov</option></select>\"\"\""
   ]
  },
  {
   "cell_type": "code",
   "execution_count": 383,
   "metadata": {},
   "outputs": [],
   "source": [
    "h = BeautifulSoup(\"\"\"<select id=\"krajSelect\" class=\"KrajSelect\"><option value=\"3129\">Bratislavský kraj</option>\n",
    "<option value=\"3130\">Trnavský kraj</option>\n",
    "<option value=\"3131\">Trenčiansky kraj</option>\n",
    "<option value=\"3132\">Nitriansky kraj</option>\n",
    "<option value=\"3133\">Žilinský kraj</option>\n",
    "<option value=\"3134\">Banskobystrický kraj</option>\n",
    "<option value=\"3135\">Prešovský kraj</option>\n",
    "<option value=\"3136\">Košický kraj</option>\n",
    "    </select>\"\"\")"
   ]
  },
  {
   "cell_type": "code",
   "execution_count": 384,
   "metadata": {},
   "outputs": [],
   "source": [
    "regions = [\n",
    "'Bratislavský kraj',\n",
    "'Trnavský kraj',\n",
    "'Trenčiansky kraj',\n",
    "'Nitriansky kraj',\n",
    "'Žilinský kraj',\n",
    "'Banskobystrický kraj',\n",
    "'Prešovský kraj',\n",
    "'Košický kraj']"
   ]
  },
  {
   "cell_type": "code",
   "execution_count": 385,
   "metadata": {},
   "outputs": [],
   "source": [
    "def get_municipalities(code):\n",
    "    url = f'http://volby.statistics.sk/ep/ep2014/EP-dv/Tabulka12_Obvod_{code}_en.html'\n",
    "    return pd.read_html(url, encoding='utf8')[0]"
   ]
  },
  {
   "cell_type": "code",
   "execution_count": 386,
   "metadata": {},
   "outputs": [],
   "source": [
    "selects = BeautifulSoup(selects).select('select')"
   ]
  },
  {
   "cell_type": "code",
   "execution_count": 387,
   "metadata": {},
   "outputs": [],
   "source": [
    "links = []\n",
    "for select, region in zip(selects, regions):\n",
    "    for district in select.select('option'):\n",
    "        links.append((region, district.attrs['value'], district.text))"
   ]
  },
  {
   "cell_type": "code",
   "execution_count": 388,
   "metadata": {},
   "outputs": [
    {
     "name": "stdout",
     "output_type": "stream",
     "text": [
      "CPU times: user 1.21 s, sys: 227 ms, total: 1.44 s\n",
      "Wall time: 6.45 s\n"
     ]
    }
   ],
   "source": [
    "%%time\n",
    "data = []\n",
    "for link in links:\n",
    "    d = get_municipalities(link[1])\n",
    "    d['region'] = link[0]\n",
    "    d['district'] = link[2]\n",
    "    data.append(d)"
   ]
  },
  {
   "cell_type": "code",
   "execution_count": 389,
   "metadata": {},
   "outputs": [],
   "source": [
    "df = pd.concat(data)"
   ]
  },
  {
   "cell_type": "code",
   "execution_count": 390,
   "metadata": {},
   "outputs": [],
   "source": [
    "df = df[['Commune, town, town district', 'Number ofreturnedenvelopes',\n",
    "         'Number of votersregistered in listsof eligible voters',\n",
    "         'Voterturnoutin %', 'district', 'region']]"
   ]
  },
  {
   "cell_type": "code",
   "execution_count": 391,
   "metadata": {},
   "outputs": [],
   "source": [
    "df.columns = ['commune', 'voters', 'eligible', 'turnout', 'district', 'region']\n",
    "df.voters = df.voters.str.replace(' ', '').astype(float)\n",
    "df.eligible = df.eligible.str.replace(' ', '').astype(float)\n",
    "df.turnout = df.turnout / 100\n",
    "df.commune = df.commune.str.replace(' - ', '-')\n",
    "df = df[df.commune.notnull()]\n",
    "df = df[df.commune != 'Total for electoral district']\n",
    "df.region = df.region.str[:-5]"
   ]
  },
  {
   "cell_type": "code",
   "execution_count": 393,
   "metadata": {},
   "outputs": [],
   "source": [
    "df.to_csv('../../data/raw/svk.csv', index=False)"
   ]
  },
  {
   "cell_type": "code",
   "execution_count": 3,
   "metadata": {},
   "outputs": [],
   "source": [
    "df = pd.read_csv('../../data/raw/svk.csv')"
   ]
  },
  {
   "cell_type": "markdown",
   "metadata": {},
   "source": [
    "## Merge"
   ]
  },
  {
   "cell_type": "code",
   "execution_count": 4,
   "metadata": {},
   "outputs": [],
   "source": [
    "geo = gpd.read_file('../../data/shapefiles/svk/obec_3.shp')\n",
    "geo = geo.to_crs(epsg=4326)"
   ]
  },
  {
   "cell_type": "code",
   "execution_count": 5,
   "metadata": {},
   "outputs": [],
   "source": [
    "remap = {\n",
    "    'Banská Štiavnica': 'Žiar nad Hronom',\n",
    "    'Myjava': 'Nové Mesto nad Váhom',\n",
    "    'Revúca': 'Rimavská Sobota',\n",
    "    'Snina': 'Humenné',\n",
    "    'Skalica': 'Senica',\n",
    "    'Sabinov': 'Prešov',\n",
    "    'Poltár': 'Lučenec',\n",
    "    'Krupina': 'Zvolen',\n",
    "    'Žarnovica': 'Žiar nad Hronom',\n",
    "    'Gelnica': 'Spišská Nová Ves',\n",
    "    'Bytča': 'Žilina',\n",
    "    'Detva': 'Zvolen',\n",
    "    'Hlohovec': 'Trnava',\n",
    "    'Ilava': 'Trenčín',\n",
    "    'Kysucké Nové Mesto': 'Žilina',\n",
    "    'Levoča': 'Poprad',\n",
    "    'Medzilaborce': 'Humenné',\n",
    "    'Partizánske': 'Prievidza',\n",
    "    'Púchov': 'Považská Bystrica',\n",
    "    'Sobrance': 'Michalovce',\n",
    "    'Turčianske Teplice': 'Martin',\n",
    "    'Tvrdošín': 'Námestovo',\n",
    "    'Zlaté Moravce': 'Nitra'\n",
    "}"
   ]
  },
  {
   "cell_type": "code",
   "execution_count": 6,
   "metadata": {},
   "outputs": [],
   "source": [
    "#geo = geo.dissolve(by='IDN4')\n",
    "geo['electoral_district'] = geo.NM3.map(remap)\n",
    "geo['electoral_district'] = geo.electoral_district.fillna(geo.NM3)"
   ]
  },
  {
   "cell_type": "code",
   "execution_count": 7,
   "metadata": {},
   "outputs": [],
   "source": [
    "for district in [\n",
    "    'Bratislava I',\n",
    "    'Bratislava II',\n",
    "    'Bratislava III',\n",
    "    'Bratislava IV',\n",
    "    'Bratislava V',\n",
    "    'Košice I',\n",
    "    'Košice II',\n",
    "    'Košice III',\n",
    "    'Košice IV']:\n",
    "    geo.electoral_district = geo.electoral_district.replace(district, district.split(' ')[0])"
   ]
  },
  {
   "cell_type": "code",
   "execution_count": 8,
   "metadata": {},
   "outputs": [],
   "source": [
    "geo = geo.merge(df,\n",
    "                left_on=['electoral_district', 'NM4'],\n",
    "                right_on=['district', 'commune'],\n",
    "                how='left',\n",
    "                validate='one_to_one')"
   ]
  },
  {
   "cell_type": "code",
   "execution_count": 9,
   "metadata": {},
   "outputs": [
    {
     "data": {
      "text/plain": [
       "0.0"
      ]
     },
     "execution_count": 9,
     "metadata": {},
     "output_type": "execute_result"
    }
   ],
   "source": [
    "geo.voters.sum() - df.voters.sum()"
   ]
  },
  {
   "cell_type": "code",
   "execution_count": 10,
   "metadata": {},
   "outputs": [
    {
     "data": {
      "text/plain": [
       "0.0"
      ]
     },
     "execution_count": 10,
     "metadata": {},
     "output_type": "execute_result"
    }
   ],
   "source": [
    "geo.eligible.sum() - df.eligible.sum()"
   ]
  },
  {
   "cell_type": "code",
   "execution_count": 11,
   "metadata": {},
   "outputs": [
    {
     "data": {
      "text/html": [
       "<div>\n",
       "<style scoped>\n",
       "    .dataframe tbody tr th:only-of-type {\n",
       "        vertical-align: middle;\n",
       "    }\n",
       "\n",
       "    .dataframe tbody tr th {\n",
       "        vertical-align: top;\n",
       "    }\n",
       "\n",
       "    .dataframe thead th {\n",
       "        text-align: right;\n",
       "    }\n",
       "</style>\n",
       "<table border=\"1\" class=\"dataframe\">\n",
       "  <thead>\n",
       "    <tr style=\"text-align: right;\">\n",
       "      <th></th>\n",
       "      <th>DOW</th>\n",
       "      <th>FACC</th>\n",
       "      <th>IDN4</th>\n",
       "      <th>NM4</th>\n",
       "      <th>IDN3</th>\n",
       "      <th>NM3</th>\n",
       "      <th>IDN2</th>\n",
       "      <th>NM2</th>\n",
       "      <th>VYMERA</th>\n",
       "      <th>Shape_Leng</th>\n",
       "      <th>Shape_Area</th>\n",
       "      <th>geometry</th>\n",
       "      <th>electoral_district</th>\n",
       "      <th>commune</th>\n",
       "      <th>voters</th>\n",
       "      <th>eligible</th>\n",
       "      <th>turnout</th>\n",
       "      <th>district</th>\n",
       "      <th>region</th>\n",
       "    </tr>\n",
       "  </thead>\n",
       "  <tbody>\n",
       "    <tr>\n",
       "      <th>1534</th>\n",
       "      <td>2019-04-30</td>\n",
       "      <td>FA004</td>\n",
       "      <td>518638</td>\n",
       "      <td>Valaškovce (vojenský obvod)</td>\n",
       "      <td>702</td>\n",
       "      <td>Humenné</td>\n",
       "      <td>7</td>\n",
       "      <td>Prešovský</td>\n",
       "      <td>119228967.0</td>\n",
       "      <td>62231.247432</td>\n",
       "      <td>1.188148e+08</td>\n",
       "      <td>POLYGON ((22.15891375373651 48.94651634121639,...</td>\n",
       "      <td>Humenné</td>\n",
       "      <td>NaN</td>\n",
       "      <td>NaN</td>\n",
       "      <td>NaN</td>\n",
       "      <td>NaN</td>\n",
       "      <td>NaN</td>\n",
       "      <td>NaN</td>\n",
       "    </tr>\n",
       "  </tbody>\n",
       "</table>\n",
       "</div>"
      ],
      "text/plain": [
       "             DOW   FACC    IDN4                          NM4  IDN3      NM3  \\\n",
       "1534  2019-04-30  FA004  518638  Valaškovce (vojenský obvod)   702  Humenné   \n",
       "\n",
       "      IDN2        NM2       VYMERA    Shape_Leng    Shape_Area  \\\n",
       "1534     7  Prešovský  119228967.0  62231.247432  1.188148e+08   \n",
       "\n",
       "                                               geometry electoral_district  \\\n",
       "1534  POLYGON ((22.15891375373651 48.94651634121639,...            Humenné   \n",
       "\n",
       "     commune  voters  eligible  turnout district region  \n",
       "1534     NaN     NaN       NaN      NaN      NaN    NaN  "
      ]
     },
     "execution_count": 11,
     "metadata": {},
     "output_type": "execute_result"
    }
   ],
   "source": [
    "geo[geo.turnout.isnull()]"
   ]
  },
  {
   "cell_type": "markdown",
   "metadata": {},
   "source": [
    "## Export"
   ]
  },
  {
   "cell_type": "code",
   "execution_count": 12,
   "metadata": {},
   "outputs": [],
   "source": [
    "geo = geo[['NM4', 'turnout', 'geometry']]\n",
    "geo = geo.rename(columns={'NM4': 'name'})\n",
    "geo['country'] = 'svk'"
   ]
  },
  {
   "cell_type": "code",
   "execution_count": 14,
   "metadata": {},
   "outputs": [],
   "source": [
    "geo.to_file('../../data/processed/svk')"
   ]
  },
  {
   "cell_type": "code",
   "execution_count": null,
   "metadata": {},
   "outputs": [],
   "source": []
  }
 ],
 "metadata": {
  "kernelspec": {
   "display_name": "Python 3",
   "language": "python",
   "name": "python3"
  },
  "language_info": {
   "codemirror_mode": {
    "name": "ipython",
    "version": 3
   },
   "file_extension": ".py",
   "mimetype": "text/x-python",
   "name": "python",
   "nbconvert_exporter": "python",
   "pygments_lexer": "ipython3",
   "version": "3.7.3"
  }
 },
 "nbformat": 4,
 "nbformat_minor": 2
}
