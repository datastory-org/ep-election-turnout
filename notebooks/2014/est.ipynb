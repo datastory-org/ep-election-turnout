{
 "cells": [
  {
   "cell_type": "markdown",
   "metadata": {},
   "source": [
    "# Estonia"
   ]
  },
  {
   "cell_type": "code",
   "execution_count": 4,
   "metadata": {},
   "outputs": [],
   "source": [
    "import pandas as pd\n",
    "import geopandas as gpd\n",
    "import requests\n",
    "from bs4 import BeautifulSoup\n",
    "\n",
    "pd.options.mode.chained_assignment = None"
   ]
  },
  {
   "cell_type": "markdown",
   "metadata": {},
   "source": [
    "## Fetch results"
   ]
  },
  {
   "cell_type": "code",
   "execution_count": 40,
   "metadata": {},
   "outputs": [],
   "source": [
    "def get_links():\n",
    "    base_url = 'http://ep2014.vvk.ee'\n",
    "    r = requests.get(f'{base_url}/detailed.html')\n",
    "    html = BeautifulSoup(r.text)\n",
    "    links = html.select('.detailed-navigator-link > a')\n",
    "    return [(x.text, f'{base_url}/{x[\"href\"]}') for x in links][1:]"
   ]
  },
  {
   "cell_type": "code",
   "execution_count": 38,
   "metadata": {},
   "outputs": [],
   "source": [
    "def get_turnout(county):\n",
    "    df = pd.read_html(county[1], index_col=1)[0]\n",
    "    df = df.drop('Reg nr', axis=1)\n",
    "    turnouts = df.loc['Osavõtt %'].reset_index()\n",
    "    turnouts['county'] = county[0]\n",
    "    return turnouts"
   ]
  },
  {
   "cell_type": "code",
   "execution_count": 41,
   "metadata": {},
   "outputs": [],
   "source": [
    "links = get_links()"
   ]
  },
  {
   "cell_type": "code",
   "execution_count": 44,
   "metadata": {},
   "outputs": [
    {
     "name": "stdout",
     "output_type": "stream",
     "text": [
      "('Tartu linn', 'http://ep2014.vvk.ee/detailed/0795/0795.html')\n",
      "('Välisriigid', 'http://ep2014.vvk.ee/detailed/9999.html')\n"
     ]
    }
   ],
   "source": [
    "municipalities = []\n",
    "\n",
    "for link in links:\n",
    "    try:\n",
    "        municipalities.append(get_turnout(link))\n",
    "    except KeyError:\n",
    "        print(link)\n",
    "        continue"
   ]
  },
  {
   "cell_type": "code",
   "execution_count": 104,
   "metadata": {},
   "outputs": [],
   "source": [
    "df = pd.concat(municipalities)\n",
    "df.columns = ['municipality', 'turnout', 'county']"
   ]
  },
  {
   "cell_type": "code",
   "execution_count": 105,
   "metadata": {},
   "outputs": [],
   "source": [
    "df['municipality'] = df['municipality'].apply(lambda x: ' '.join(x.split(' ')[:-1]) if x not in ['Viljandi vald', 'Põltsamaa vald', 'Jõgeva vald'] else x)"
   ]
  },
  {
   "cell_type": "code",
   "execution_count": 106,
   "metadata": {},
   "outputs": [],
   "source": [
    "df.municipality = df.municipality.str.replace('Vändra vald', 'Vändra vald (alev)')"
   ]
  },
  {
   "cell_type": "code",
   "execution_count": 107,
   "metadata": {},
   "outputs": [],
   "source": [
    "# Manually entered from web\n",
    "df = df.append({\n",
    "    'municipality': 'Tallinn',\n",
    "    'turnout': 43.58,\n",
    "    'county': 'Tallin'\n",
    "}, ignore_index=True)"
   ]
  },
  {
   "cell_type": "code",
   "execution_count": 7,
   "metadata": {},
   "outputs": [],
   "source": [
    "df.to_csv('../../data/raw/est.csv', index=False)"
   ]
  },
  {
   "cell_type": "markdown",
   "metadata": {},
   "source": [
    "## Merge"
   ]
  },
  {
   "cell_type": "code",
   "execution_count": 18,
   "metadata": {},
   "outputs": [],
   "source": [
    "df = df.rename(columns={'municipality': 'name'})"
   ]
  },
  {
   "cell_type": "code",
   "execution_count": 8,
   "metadata": {},
   "outputs": [],
   "source": [
    "geo = gpd.read_file('../../data/shapefiles/est/est.shp')"
   ]
  },
  {
   "cell_type": "code",
   "execution_count": 19,
   "metadata": {},
   "outputs": [],
   "source": [
    "geo = geo.merge(df, left_on='NAME_2', right_on='name', how='left')"
   ]
  },
  {
   "cell_type": "markdown",
   "metadata": {},
   "source": [
    "## Export"
   ]
  },
  {
   "cell_type": "code",
   "execution_count": 23,
   "metadata": {},
   "outputs": [],
   "source": [
    "geo = geo[['name', 'turnout', 'geometry']]"
   ]
  },
  {
   "cell_type": "code",
   "execution_count": 25,
   "metadata": {},
   "outputs": [],
   "source": [
    "geo['country'] = 'est'"
   ]
  },
  {
   "cell_type": "code",
   "execution_count": 26,
   "metadata": {},
   "outputs": [],
   "source": [
    "geo.to_file('../../data/processed/est')"
   ]
  },
  {
   "cell_type": "code",
   "execution_count": null,
   "metadata": {},
   "outputs": [],
   "source": []
  }
 ],
 "metadata": {
  "kernelspec": {
   "display_name": "Python 3",
   "language": "python",
   "name": "python3"
  },
  "language_info": {
   "codemirror_mode": {
    "name": "ipython",
    "version": 3
   },
   "file_extension": ".py",
   "mimetype": "text/x-python",
   "name": "python",
   "nbconvert_exporter": "python",
   "pygments_lexer": "ipython3",
   "version": "3.7.3"
  }
 },
 "nbformat": 4,
 "nbformat_minor": 2
}
