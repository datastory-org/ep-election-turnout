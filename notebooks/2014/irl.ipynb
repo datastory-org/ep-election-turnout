{
 "cells": [
  {
   "cell_type": "markdown",
   "metadata": {},
   "source": [
    "# Ireland"
   ]
  },
  {
   "cell_type": "code",
   "execution_count": 19,
   "metadata": {},
   "outputs": [],
   "source": [
    "import pandas as pd\n",
    "import geopandas as gpd\n",
    "\n",
    "pd.options.mode.chained_assignment = None"
   ]
  },
  {
   "cell_type": "markdown",
   "metadata": {},
   "source": [
    "![Ireland](https://www.europarl.europa.eu/ireland/media/static/images/European_elections_2019/ireland-constituencies-2019-proposal.png)"
   ]
  },
  {
   "cell_type": "code",
   "execution_count": 20,
   "metadata": {},
   "outputs": [],
   "source": [
    "geo = gpd.read_file('../../data/shapefiles/irl/gadm36_IRL_1.shp')"
   ]
  },
  {
   "cell_type": "code",
   "execution_count": 23,
   "metadata": {},
   "outputs": [],
   "source": [
    "mnw = ['Mayo', 'Donegal', 'Galway', 'Sligo', 'Roscommon', 'Leitrim',\n",
    "       'Cavan', 'Monaghan', 'Longford', 'Westmeath', 'Meath', 'Louth',\n",
    "       'Kildare']\n",
    "\n",
    "geo['constituency'] = geo.apply(lambda x: 'Midlands-North-West' if x.NAME_1 in mnw else\n",
    "                                'Dublin' if x.NAME_1 == 'Dublin' else 'South', axis=1)"
   ]
  },
  {
   "cell_type": "code",
   "execution_count": 24,
   "metadata": {},
   "outputs": [],
   "source": [
    "# From website\n",
    "turnouts = {\n",
    "    'Midlands-North-West': 55.17,\n",
    "    'Dublin': 43.74,\n",
    "    'South': 55.6\n",
    "}"
   ]
  },
  {
   "cell_type": "code",
   "execution_count": 25,
   "metadata": {},
   "outputs": [],
   "source": [
    "geo['turnout'] = geo.constituency.map(turnouts)"
   ]
  },
  {
   "cell_type": "code",
   "execution_count": 26,
   "metadata": {},
   "outputs": [],
   "source": [
    "geo = geo.dissolve(by='constituency')"
   ]
  },
  {
   "cell_type": "code",
   "execution_count": 28,
   "metadata": {},
   "outputs": [],
   "source": [
    "geo = geo.reset_index()\n",
    "geo = geo[['constituency', 'turnout', 'geometry']]\n",
    "geo = geo.rename(columns={'constituency': 'name'})\n",
    "geo['country'] = 'irl'"
   ]
  },
  {
   "cell_type": "code",
   "execution_count": 30,
   "metadata": {},
   "outputs": [],
   "source": [
    "geo.to_file('../../data/processed/irl')"
   ]
  },
  {
   "cell_type": "code",
   "execution_count": null,
   "metadata": {},
   "outputs": [],
   "source": []
  }
 ],
 "metadata": {
  "kernelspec": {
   "display_name": "Python 3",
   "language": "python",
   "name": "python3"
  },
  "language_info": {
   "codemirror_mode": {
    "name": "ipython",
    "version": 3
   },
   "file_extension": ".py",
   "mimetype": "text/x-python",
   "name": "python",
   "nbconvert_exporter": "python",
   "pygments_lexer": "ipython3",
   "version": "3.7.3"
  }
 },
 "nbformat": 4,
 "nbformat_minor": 2
}
