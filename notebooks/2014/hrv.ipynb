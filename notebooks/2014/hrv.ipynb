{
 "cells": [
  {
   "cell_type": "markdown",
   "metadata": {},
   "source": [
    "# Croatia"
   ]
  },
  {
   "cell_type": "code",
   "execution_count": 1,
   "metadata": {},
   "outputs": [],
   "source": [
    "import pandas as pd\n",
    "import geopandas as gpd"
   ]
  },
  {
   "cell_type": "markdown",
   "metadata": {},
   "source": [
    "## Fetch results"
   ]
  },
  {
   "cell_type": "code",
   "execution_count": 2,
   "metadata": {},
   "outputs": [],
   "source": [
    "df = pd.read_csv('../../data/raw/hrv.csv', encoding='windows-1250',\n",
    "                 sep=';', skipfooter=79, engine='python')"
   ]
  },
  {
   "cell_type": "code",
   "execution_count": 3,
   "metadata": {},
   "outputs": [],
   "source": [
    "df = df.rename(columns={'Grad/općina/država': 'muni'})"
   ]
  },
  {
   "cell_type": "code",
   "execution_count": 4,
   "metadata": {},
   "outputs": [],
   "source": [
    "df.muni = df.muni.replace('MARTIJANEC', 'DONJI MARTIJANEC')\n",
    "df.muni = df.muni.replace('GRAD ZAGREB', 'ZAGREB')\n",
    "df.muni = df.muni.replace('OPATIJA', 'OPATIJA/VEPRINAC')\n",
    "df.muni = df.muni.replace('KONJŠČINA', 'KONJŠĆINA')\n",
    "df.muni = df.muni.replace('BUDINŠČINA', 'BUDINŠĆINA')\n",
    "df.muni = df.muni.replace('RAB', 'LOPAR/SUPETARSKA DRAGA')\n",
    "df.muni = df.muni.replace('VINODOLSKA OPĆINA', 'VINODOLSKA')\n",
    "df.muni = df.muni.replace('SVETA MARIJA', 'SVETA MARIJA NA MURI')\n",
    "df.muni = df.muni.replace('POVLJANA', 'POVLJANE')\n",
    "\n",
    "df.loc[df['Naziv BM'] == 'ILOVIK', 'muni'] = 'ILOVIK'\n",
    "df.loc[df['Naziv BM'] == 'PREMANTURA', 'muni'] = 'PREMANTURA'"
   ]
  },
  {
   "cell_type": "code",
   "execution_count": 5,
   "metadata": {},
   "outputs": [],
   "source": [
    "# Get rid of Italian names\n",
    "df.muni = df.muni.str.split(' - ', expand=True)[0]"
   ]
  },
  {
   "cell_type": "code",
   "execution_count": 6,
   "metadata": {},
   "outputs": [],
   "source": [
    "data = df.groupby('muni')['Glasovalo birača'].sum() / df.groupby('muni')['Ukupno birača'].sum()"
   ]
  },
  {
   "cell_type": "code",
   "execution_count": 7,
   "metadata": {},
   "outputs": [],
   "source": [
    "data = data.reset_index().rename(columns={'muni': 'name', 0: 'turnout'})"
   ]
  },
  {
   "cell_type": "code",
   "execution_count": 8,
   "metadata": {},
   "outputs": [],
   "source": [
    "data.turnout = data.turnout * 100"
   ]
  },
  {
   "cell_type": "markdown",
   "metadata": {},
   "source": [
    "## Merge"
   ]
  },
  {
   "cell_type": "code",
   "execution_count": 9,
   "metadata": {},
   "outputs": [],
   "source": [
    "geo = gpd.read_file('../../data/shapefiles/hrv/gadm36_HRV_2.shp')"
   ]
  },
  {
   "cell_type": "code",
   "execution_count": 10,
   "metadata": {},
   "outputs": [],
   "source": [
    "geo['name'] = geo.NAME_2.str.upper()"
   ]
  },
  {
   "cell_type": "code",
   "execution_count": 12,
   "metadata": {},
   "outputs": [
    {
     "data": {
      "text/plain": [
       "((560, 15), (554, 2), (11, 15), (9, 2))"
      ]
     },
     "execution_count": 12,
     "metadata": {},
     "output_type": "execute_result"
    }
   ],
   "source": [
    "geo.shape, data.shape, geo[~geo.name.isin(data.name)].shape, data[~data.name.isin(geo.name)].shape"
   ]
  },
  {
   "cell_type": "code",
   "execution_count": 13,
   "metadata": {},
   "outputs": [],
   "source": [
    "geo = geo.merge(data, on='name', how='left')"
   ]
  },
  {
   "cell_type": "code",
   "execution_count": 14,
   "metadata": {},
   "outputs": [],
   "source": [
    "geo = geo[['name', 'geometry', 'turnout']]"
   ]
  },
  {
   "cell_type": "markdown",
   "metadata": {},
   "source": [
    "## Export"
   ]
  },
  {
   "cell_type": "code",
   "execution_count": 15,
   "metadata": {},
   "outputs": [],
   "source": [
    "geo['country'] = 'hrv'"
   ]
  },
  {
   "cell_type": "code",
   "execution_count": 60,
   "metadata": {},
   "outputs": [],
   "source": [
    "geo.to_file('../../data/processed/hrv')"
   ]
  },
  {
   "cell_type": "code",
   "execution_count": null,
   "metadata": {},
   "outputs": [],
   "source": []
  }
 ],
 "metadata": {
  "kernelspec": {
   "display_name": "Python 3",
   "language": "python",
   "name": "python3"
  },
  "language_info": {
   "codemirror_mode": {
    "name": "ipython",
    "version": 3
   },
   "file_extension": ".py",
   "mimetype": "text/x-python",
   "name": "python",
   "nbconvert_exporter": "python",
   "pygments_lexer": "ipython3",
   "version": "3.7.3"
  }
 },
 "nbformat": 4,
 "nbformat_minor": 2
}
