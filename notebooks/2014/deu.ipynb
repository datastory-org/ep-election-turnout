{
 "cells": [
  {
   "cell_type": "markdown",
   "metadata": {},
   "source": [
    "# Germany"
   ]
  },
  {
   "cell_type": "code",
   "execution_count": 1,
   "metadata": {},
   "outputs": [],
   "source": [
    "import re\n",
    "import pandas as pd\n",
    "import matplotlib.pyplot as plt\n",
    "import geopandas as gpd\n",
    "\n",
    "pd.options.mode.chained_assignment = None"
   ]
  },
  {
   "cell_type": "code",
   "execution_count": 460,
   "metadata": {},
   "outputs": [],
   "source": [
    "dtypes = {\n",
    "    'Land': str,\n",
    "    'Regierungsbezirk': str,\n",
    "    'Kreis': str,\n",
    "    'Verbandsgemeinde': str,\n",
    "    'Gemeinde': str,\n",
    "    'Kennziffer Briefwahlzugehörigkeit': str\n",
    "}\n",
    "\n",
    "df = pd.read_csv('../../data/raw/deu.csv',\n",
    "                 encoding='utf-16le', sep='\\t', skiprows=4, low_memory=False, dtype=dtypes)"
   ]
  },
  {
   "cell_type": "code",
   "execution_count": 461,
   "metadata": {},
   "outputs": [],
   "source": [
    "df = df[df.columns[:16]]"
   ]
  },
  {
   "cell_type": "code",
   "execution_count": 462,
   "metadata": {},
   "outputs": [],
   "source": [
    "meta = pd.read_csv('../../data/raw/deu_meta.csv',\n",
    "                   encoding='utf-16le', sep='\\t', skiprows=4, dtype=dtypes)"
   ]
  },
  {
   "cell_type": "code",
   "execution_count": 463,
   "metadata": {},
   "outputs": [
    {
     "data": {
      "text/plain": [
       "((86223, 16), (13621, 9))"
      ]
     },
     "execution_count": 463,
     "metadata": {},
     "output_type": "execute_result"
    }
   ],
   "source": [
    "df.shape, meta.shape"
   ]
  },
  {
   "cell_type": "code",
   "execution_count": 464,
   "metadata": {},
   "outputs": [],
   "source": [
    "id_cols = ['Land', 'Regierungsbezirk', 'Kreis', 'Verbandsgemeinde',\n",
    "           'Gemeinde', 'Kennziffer Briefwahlzugehörigkeit']"
   ]
  },
  {
   "cell_type": "code",
   "execution_count": 465,
   "metadata": {},
   "outputs": [],
   "source": [
    "df = df.merge(meta, on=id_cols)"
   ]
  },
  {
   "cell_type": "code",
   "execution_count": 466,
   "metadata": {},
   "outputs": [],
   "source": [
    "df['id'] = (df\n",
    "    .Land.str.zfill(2)\n",
    "    .str.cat(df.Regierungsbezirk)\n",
    "    .str.cat(df.Kreis.str.zfill(2))\n",
    "    .str.cat(df.Verbandsgemeinde.str.zfill(4))\n",
    "    .str.cat(df.Gemeinde.str.zfill(3)))"
   ]
  },
  {
   "cell_type": "code",
   "execution_count": 498,
   "metadata": {},
   "outputs": [],
   "source": [
    "geo = gpd.read_file('../../data/shapefiles/deu/VG250_GEM.shp')"
   ]
  },
  {
   "cell_type": "code",
   "execution_count": 468,
   "metadata": {},
   "outputs": [],
   "source": [
    "# https://en.wikipedia.org/wiki/Stepenitztal\n",
    "merge_1 = (geo[geo.GEN.isin(['Börzow', 'Mallentin', 'Papenhusen'])]\n",
    "    .dissolve(by='GF')\n",
    "    .reset_index()\n",
    "    .assign(GEN=lambda x: 'Stepenitztal')\n",
    "    .assign(RS=lambda x: '130745453093'))\n",
    "\n",
    "geo = geo.append(merge_1, sort=True)\n",
    "geo = geo[~geo.GEN.isin(['Börzow', 'Mallentin', 'Papenhusen'])]"
   ]
  },
  {
   "cell_type": "code",
   "execution_count": 469,
   "metadata": {},
   "outputs": [],
   "source": [
    "# https://de.wikipedia.org/wiki/Ganzlin\n",
    "merge_2 = (geo[geo.GEN.isin(['Ganzlin', 'Buchberg', 'Wendisch Priborn'])]\n",
    "    .dissolve(by='GF')\n",
    "    .reset_index()\n",
    "    .assign(GEN=lambda x: 'Ganzlin')\n",
    "    .assign(RS=lambda x: '130765663166'))\n",
    "\n",
    "geo = geo[~geo.GEN.isin(['Ganzlin', 'Buchberg', 'Wendisch Priborn'])]\n",
    "geo = geo.append(merge_2, sort=True)"
   ]
  },
  {
   "cell_type": "code",
   "execution_count": 470,
   "metadata": {},
   "outputs": [],
   "source": [
    "# https://de.wikipedia.org/wiki/K%C3%B6lzin\n",
    "merge_3 = (geo[geo.GEN.isin(['Gützkow', 'Kölzin'])]\n",
    "    .sort_index(ascending=False)\n",
    "    .dissolve(by='GF')\n",
    "    .reset_index())\n",
    "\n",
    "geo = geo.append(merge_3, sort=True)\n",
    "geo = geo[geo.GEN != 'Kölzin']"
   ]
  },
  {
   "cell_type": "code",
   "execution_count": 471,
   "metadata": {},
   "outputs": [],
   "source": [
    "# https://de.wikipedia.org/wiki/Heinrichsruh_(Torgelow)\n",
    "merge_4 = (geo[geo.GEN.isin(['Heinrichsruh', 'Torgelow', 'Torgelow-Holländerei'])]\n",
    "    .sort_index(ascending=False)\n",
    "    .dissolve(by='GF')\n",
    "    .reset_index())\n",
    "\n",
    "geo = geo.append(merge_4, sort=True)\n",
    "geo = geo[~geo.GEN.isin(['Heinrichsruh', 'Torgelow-Holländerei'])]"
   ]
  },
  {
   "cell_type": "code",
   "execution_count": 472,
   "metadata": {},
   "outputs": [],
   "source": [
    "# https://de.wikipedia.org/wiki/Friedland_(Mecklenburg)#Eingemeindungen\n",
    "merge_5 = (geo[geo.RS.isin(['130715152040', '130715152031', '130715152035'])]\n",
    "    .sort_index(ascending=False)\n",
    "    .dissolve(by='GF')\n",
    "    .reset_index())\n",
    "\n",
    "geo = geo.append(merge_5, sort=True)\n",
    "geo = geo[~geo.GEN.isin(['Glienke', 'Eichhorst'])]"
   ]
  },
  {
   "cell_type": "code",
   "execution_count": 473,
   "metadata": {},
   "outputs": [],
   "source": [
    "# https://de.wikipedia.org/wiki/Roggentin_(Mirow)\n",
    "merge_6 = (geo[geo.RS.isin(['130715155126', '130715155099'])]\n",
    "    .sort_index(ascending=False)\n",
    "    .dissolve(by='GF')\n",
    "    .reset_index())\n",
    "\n",
    "geo = geo.append(merge_6, sort=True)\n",
    "geo = geo[geo.RS != '130715155126']"
   ]
  },
  {
   "cell_type": "code",
   "execution_count": 474,
   "metadata": {},
   "outputs": [],
   "source": [
    "# https://en.wikipedia.org/wiki/Helpt\n",
    "merge_7 = (geo[geo.GEN.isin(['Woldegk', 'Helpt'])]\n",
    "    .sort_index(ascending=False)\n",
    "    .dissolve(by='GF')\n",
    "    .reset_index())\n",
    "\n",
    "geo = geo.append(merge_7, sort=True)\n",
    "geo = geo[geo.GEN != 'Helpt']"
   ]
  },
  {
   "cell_type": "code",
   "execution_count": 475,
   "metadata": {},
   "outputs": [],
   "source": [
    "# https://en.wikipedia.org/wiki/Severin,_Germany\n",
    "merge_8 = (geo[geo.GEN.isin(['Severin', 'Domsühl'])]\n",
    "    .dissolve(by='GF')\n",
    "    .reset_index())\n",
    "\n",
    "geo = geo.append(merge_8, sort=True)\n",
    "geo = geo[geo.GEN != 'Severin']"
   ]
  },
  {
   "cell_type": "code",
   "execution_count": 476,
   "metadata": {},
   "outputs": [],
   "source": [
    "# https://de.wikipedia.org/wiki/Lutheran\n",
    "merge_9 = (geo[geo.GEN.isin(['Lutheran', 'Lübz'])]\n",
    "    .dissolve(by='GF')\n",
    "    .reset_index())\n",
    "\n",
    "geo = geo.append(merge_9, sort=True)\n",
    "geo = geo[geo.GEN != 'Lutheran']"
   ]
  },
  {
   "cell_type": "code",
   "execution_count": 477,
   "metadata": {},
   "outputs": [],
   "source": [
    "# https://de.wikipedia.org/wiki/Langhagen\n",
    "merge_10 = (geo[geo.GEN.isin(['Langhagen', 'Lalendorf'])]\n",
    "    .dissolve(by='GF')\n",
    "    .reset_index())\n",
    "\n",
    "geo = geo.append(merge_10, sort=True)\n",
    "geo = geo[geo.GEN != 'Langhagen']"
   ]
  },
  {
   "cell_type": "code",
   "execution_count": 478,
   "metadata": {},
   "outputs": [],
   "source": [
    "# https://en.wikipedia.org/wiki/K%C3%B6rchow\n",
    "merge_11 = (geo[geo.GEN.isin(['Körchow', 'Wittenburg', 'Lehsen'])]\n",
    "    .sort_index(ascending=False)\n",
    "    .dissolve(by='GF')\n",
    "    .reset_index())\n",
    "\n",
    "geo = geo.append(merge_11, sort=True)\n",
    "geo = geo[~geo.GEN.isin(['Körchow', 'Lehsen'])]"
   ]
  },
  {
   "cell_type": "code",
   "execution_count": 479,
   "metadata": {},
   "outputs": [],
   "source": [
    "# https://en.wikipedia.org/wiki/Vitense\n",
    "merge_12 = (geo[geo.GEN.isin(['Vitense', 'Rehna', 'Nesow'])]\n",
    "    .sort_index(ascending=False)\n",
    "    .dissolve(by='GF')\n",
    "    .reset_index())\n",
    "\n",
    "geo = geo.append(merge_12, sort=True)\n",
    "geo = geo[~geo.GEN.isin(['Vitense', 'Nesow'])]"
   ]
  },
  {
   "cell_type": "code",
   "execution_count": 480,
   "metadata": {},
   "outputs": [],
   "source": [
    "# https://en.wikipedia.org/wiki/Cammin_(Burg_Stargard)\n",
    "merge_13 = (geo[geo.RS.isin(['130715161024', '130715161021'])]\n",
    "    .dissolve(by='GF')\n",
    "    .reset_index())\n",
    "\n",
    "geo = geo.append(merge_13, sort=True)\n",
    "geo = geo[~geo.RS.isin(['130715161024'])]"
   ]
  },
  {
   "cell_type": "code",
   "execution_count": 481,
   "metadata": {},
   "outputs": [],
   "source": [
    "# https://en.wikipedia.org/wiki/Damm,_Parchim\n",
    "merge_14 = (geo[geo.GEN.isin(['Damm', 'Parchim'])]\n",
    "    .sort_index(ascending=False)\n",
    "    .dissolve(by='GF')\n",
    "    .reset_index())\n",
    "\n",
    "geo = geo.append(merge_14, sort=True)\n",
    "geo = geo[~geo.GEN.isin(['Damm'])]"
   ]
  },
  {
   "cell_type": "code",
   "execution_count": 482,
   "metadata": {},
   "outputs": [],
   "source": [
    "mun = df.groupby('id')\n",
    "eligible = mun['Wahlberechtigte (A)'].sum()\n",
    "voters = mun['Wähler (B)'].sum()\n",
    "names = eligible.index.map(df.drop_duplicates(subset=['id']).set_index('id').Name)\n",
    "data = pd.DataFrame({'eligible': eligible, 'voters': voters, 'name': names})\n",
    "data['turnout'] = data.voters / data.eligible * 100"
   ]
  },
  {
   "cell_type": "code",
   "execution_count": 483,
   "metadata": {},
   "outputs": [],
   "source": [
    "data.name = data.name.replace('Golßen, Stadt', 'Golßen')\n",
    "data.name = data.name.replace('Oldenbüttel einschl. Gemeinde Tackesdorf', 'Tackesdorf')\n",
    "data.name = data.name.replace('Hennstedt einschl. Gemeinde Wiedenborstel', 'Wiedenborstel')\n",
    "data = data[~data.name.str.contains('Briefwahl ')]"
   ]
  },
  {
   "cell_type": "code",
   "execution_count": 484,
   "metadata": {},
   "outputs": [],
   "source": [
    "# Special case for Berlin, from website\n",
    "data = data.append(pd.DataFrame({\n",
    "    'name': ['Berlin'],\n",
    "    'eligible': 2519758,\n",
    "    'voters': 1177832,\n",
    "    'turnout': 46.7},\n",
    "    index=['110000000000']), sort=True)"
   ]
  },
  {
   "cell_type": "code",
   "execution_count": 485,
   "metadata": {},
   "outputs": [],
   "source": [
    "geo = geo.merge(data, left_on='RS', right_index=True, how='left')"
   ]
  },
  {
   "cell_type": "code",
   "execution_count": 486,
   "metadata": {},
   "outputs": [],
   "source": [
    "merge_by_name = ['Drahnsdorf', 'Schlepzig', 'Kasel-Golzig', 'Bersteland', 'Unterspreewald',\n",
    "                 'Schönwald', 'Krausnick-Groß Wasserburg', 'Wiedenborstel', 'Steinreich',\n",
    "                 'Rietzneuendorf-Staakow', 'Tackesdorf', 'Golßen']"
   ]
  },
  {
   "cell_type": "code",
   "execution_count": 487,
   "metadata": {},
   "outputs": [],
   "source": [
    "for mbn in merge_by_name:\n",
    "    _ = data.loc[lambda x: x.name == mbn, 'turnout'].iloc[0]\n",
    "    geo.loc[lambda x: x.GEN == mbn, 'turnout'] = _"
   ]
  },
  {
   "cell_type": "code",
   "execution_count": 488,
   "metadata": {},
   "outputs": [
    {
     "data": {
      "text/plain": [
       "((11477, 28), (0, 28))"
      ]
     },
     "execution_count": 488,
     "metadata": {},
     "output_type": "execute_result"
    }
   ],
   "source": [
    "geo.shape, geo[(geo.turnout.isnull()) & (geo.BEZ != 'Gemeindefreies Gebiet')].shape"
   ]
  },
  {
   "cell_type": "markdown",
   "metadata": {},
   "source": [
    "## Export"
   ]
  },
  {
   "cell_type": "code",
   "execution_count": 497,
   "metadata": {},
   "outputs": [],
   "source": [
    "geo = geo[['name', 'turnout', 'geometry']]\n",
    "geo['country'] = 'deu'\n",
    "geo.to_file('../../data/processed/deu')"
   ]
  },
  {
   "cell_type": "code",
   "execution_count": null,
   "metadata": {},
   "outputs": [],
   "source": []
  }
 ],
 "metadata": {
  "kernelspec": {
   "display_name": "Python 3",
   "language": "python",
   "name": "python3"
  },
  "language_info": {
   "codemirror_mode": {
    "name": "ipython",
    "version": 3
   },
   "file_extension": ".py",
   "mimetype": "text/x-python",
   "name": "python",
   "nbconvert_exporter": "python",
   "pygments_lexer": "ipython3",
   "version": "3.7.3"
  }
 },
 "nbformat": 4,
 "nbformat_minor": 2
}
